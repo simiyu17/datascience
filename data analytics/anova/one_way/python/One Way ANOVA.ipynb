{
 "cells": [
  {
   "cell_type": "markdown",
   "metadata": {},
   "source": [
    "# One-Way Anova\n",
    "We'll be looking at SAT scores for five different districts ('Borough' in the dataset) in New York City for 2014-2015 school year."
   ]
  },
  {
   "cell_type": "code",
   "execution_count": 312,
   "metadata": {},
   "outputs": [],
   "source": [
    "import pandas as pd\n",
    "import numpy as np\n",
    "import scipy.stats as stats\n",
    "import researchpy as rp\n",
    "import statsmodels.api as sm\n",
    "from statsmodels.formula.api import ols\n",
    "import matplotlib.pyplot as plt\n",
    "import seaborn as sns\n",
    "%matplotlib inline\n",
    "\n",
    "from collections import Counter\n",
    "\n",
    "from statsmodels.stats.multicomp import pairwise_tukeyhsd\n",
    "from statsmodels.stats.multicomp import MultiComparison"
   ]
  },
  {
   "cell_type": "code",
   "execution_count": 313,
   "metadata": {},
   "outputs": [
    {
     "data": {
      "text/html": [
       "<div>\n",
       "<style scoped>\n",
       "    .dataframe tbody tr th:only-of-type {\n",
       "        vertical-align: middle;\n",
       "    }\n",
       "\n",
       "    .dataframe tbody tr th {\n",
       "        vertical-align: top;\n",
       "    }\n",
       "\n",
       "    .dataframe thead th {\n",
       "        text-align: right;\n",
       "    }\n",
       "</style>\n",
       "<table border=\"1\" class=\"dataframe\">\n",
       "  <thead>\n",
       "    <tr style=\"text-align: right;\">\n",
       "      <th></th>\n",
       "      <th>School ID</th>\n",
       "      <th>School Name</th>\n",
       "      <th>Borough</th>\n",
       "      <th>Building Code</th>\n",
       "      <th>Street Address</th>\n",
       "      <th>City</th>\n",
       "      <th>State</th>\n",
       "      <th>Zip Code</th>\n",
       "      <th>Latitude</th>\n",
       "      <th>Longitude</th>\n",
       "      <th>...</th>\n",
       "      <th>End Time</th>\n",
       "      <th>Student Enrollment</th>\n",
       "      <th>Percent White</th>\n",
       "      <th>Percent Black</th>\n",
       "      <th>Percent Hispanic</th>\n",
       "      <th>Percent Asian</th>\n",
       "      <th>Average Score (SAT Math)</th>\n",
       "      <th>Average Score (SAT Reading)</th>\n",
       "      <th>Average Score (SAT Writing)</th>\n",
       "      <th>Percent Tested</th>\n",
       "    </tr>\n",
       "  </thead>\n",
       "  <tbody>\n",
       "    <tr>\n",
       "      <th>0</th>\n",
       "      <td>02M260</td>\n",
       "      <td>Clinton School Writers and Artists</td>\n",
       "      <td>Manhattan</td>\n",
       "      <td>M933</td>\n",
       "      <td>425 West 33rd Street</td>\n",
       "      <td>Manhattan</td>\n",
       "      <td>NY</td>\n",
       "      <td>10001</td>\n",
       "      <td>40.75321</td>\n",
       "      <td>-73.99786</td>\n",
       "      <td>...</td>\n",
       "      <td>NaN</td>\n",
       "      <td>NaN</td>\n",
       "      <td>NaN</td>\n",
       "      <td>NaN</td>\n",
       "      <td>NaN</td>\n",
       "      <td>NaN</td>\n",
       "      <td>NaN</td>\n",
       "      <td>NaN</td>\n",
       "      <td>NaN</td>\n",
       "      <td>NaN</td>\n",
       "    </tr>\n",
       "    <tr>\n",
       "      <th>1</th>\n",
       "      <td>06M211</td>\n",
       "      <td>Inwood Early College for Health and Informatio...</td>\n",
       "      <td>Manhattan</td>\n",
       "      <td>M052</td>\n",
       "      <td>650 Academy Street</td>\n",
       "      <td>Manhattan</td>\n",
       "      <td>NY</td>\n",
       "      <td>10002</td>\n",
       "      <td>40.86605</td>\n",
       "      <td>-73.92486</td>\n",
       "      <td>...</td>\n",
       "      <td>3:00 PM</td>\n",
       "      <td>87.0</td>\n",
       "      <td>3.4%</td>\n",
       "      <td>21.8%</td>\n",
       "      <td>67.8%</td>\n",
       "      <td>4.6%</td>\n",
       "      <td>NaN</td>\n",
       "      <td>NaN</td>\n",
       "      <td>NaN</td>\n",
       "      <td>NaN</td>\n",
       "    </tr>\n",
       "    <tr>\n",
       "      <th>2</th>\n",
       "      <td>01M539</td>\n",
       "      <td>New Explorations into Science, Technology and ...</td>\n",
       "      <td>Manhattan</td>\n",
       "      <td>M022</td>\n",
       "      <td>111 Columbia Street</td>\n",
       "      <td>Manhattan</td>\n",
       "      <td>NY</td>\n",
       "      <td>10002</td>\n",
       "      <td>40.71873</td>\n",
       "      <td>-73.97943</td>\n",
       "      <td>...</td>\n",
       "      <td>4:00 PM</td>\n",
       "      <td>1735.0</td>\n",
       "      <td>28.6%</td>\n",
       "      <td>13.3%</td>\n",
       "      <td>18.0%</td>\n",
       "      <td>38.5%</td>\n",
       "      <td>657.0</td>\n",
       "      <td>601.0</td>\n",
       "      <td>601.0</td>\n",
       "      <td>91.0%</td>\n",
       "    </tr>\n",
       "    <tr>\n",
       "      <th>3</th>\n",
       "      <td>02M294</td>\n",
       "      <td>Essex Street Academy</td>\n",
       "      <td>Manhattan</td>\n",
       "      <td>M445</td>\n",
       "      <td>350 Grand Street</td>\n",
       "      <td>Manhattan</td>\n",
       "      <td>NY</td>\n",
       "      <td>10002</td>\n",
       "      <td>40.71687</td>\n",
       "      <td>-73.98953</td>\n",
       "      <td>...</td>\n",
       "      <td>2:45 PM</td>\n",
       "      <td>358.0</td>\n",
       "      <td>11.7%</td>\n",
       "      <td>38.5%</td>\n",
       "      <td>41.3%</td>\n",
       "      <td>5.9%</td>\n",
       "      <td>395.0</td>\n",
       "      <td>411.0</td>\n",
       "      <td>387.0</td>\n",
       "      <td>78.9%</td>\n",
       "    </tr>\n",
       "    <tr>\n",
       "      <th>4</th>\n",
       "      <td>02M308</td>\n",
       "      <td>Lower Manhattan Arts Academy</td>\n",
       "      <td>Manhattan</td>\n",
       "      <td>M445</td>\n",
       "      <td>350 Grand Street</td>\n",
       "      <td>Manhattan</td>\n",
       "      <td>NY</td>\n",
       "      <td>10002</td>\n",
       "      <td>40.71687</td>\n",
       "      <td>-73.98953</td>\n",
       "      <td>...</td>\n",
       "      <td>3:00 PM</td>\n",
       "      <td>383.0</td>\n",
       "      <td>3.1%</td>\n",
       "      <td>28.2%</td>\n",
       "      <td>56.9%</td>\n",
       "      <td>8.6%</td>\n",
       "      <td>418.0</td>\n",
       "      <td>428.0</td>\n",
       "      <td>415.0</td>\n",
       "      <td>65.1%</td>\n",
       "    </tr>\n",
       "  </tbody>\n",
       "</table>\n",
       "<p>5 rows × 22 columns</p>\n",
       "</div>"
      ],
      "text/plain": [
       "  School ID                                        School Name    Borough  \\\n",
       "0    02M260                 Clinton School Writers and Artists  Manhattan   \n",
       "1    06M211  Inwood Early College for Health and Informatio...  Manhattan   \n",
       "2    01M539  New Explorations into Science, Technology and ...  Manhattan   \n",
       "3    02M294                               Essex Street Academy  Manhattan   \n",
       "4    02M308                       Lower Manhattan Arts Academy  Manhattan   \n",
       "\n",
       "  Building Code        Street Address       City State  Zip Code  Latitude  \\\n",
       "0          M933  425 West 33rd Street  Manhattan    NY     10001  40.75321   \n",
       "1          M052    650 Academy Street  Manhattan    NY     10002  40.86605   \n",
       "2          M022   111 Columbia Street  Manhattan    NY     10002  40.71873   \n",
       "3          M445      350 Grand Street  Manhattan    NY     10002  40.71687   \n",
       "4          M445      350 Grand Street  Manhattan    NY     10002  40.71687   \n",
       "\n",
       "   Longitude  ... End Time Student Enrollment Percent White  Percent Black  \\\n",
       "0  -73.99786  ...      NaN                NaN           NaN            NaN   \n",
       "1  -73.92486  ...  3:00 PM               87.0          3.4%          21.8%   \n",
       "2  -73.97943  ...  4:00 PM             1735.0         28.6%          13.3%   \n",
       "3  -73.98953  ...  2:45 PM              358.0         11.7%          38.5%   \n",
       "4  -73.98953  ...  3:00 PM              383.0          3.1%          28.2%   \n",
       "\n",
       "  Percent Hispanic Percent Asian Average Score (SAT Math)  \\\n",
       "0              NaN           NaN                      NaN   \n",
       "1            67.8%          4.6%                      NaN   \n",
       "2            18.0%         38.5%                    657.0   \n",
       "3            41.3%          5.9%                    395.0   \n",
       "4            56.9%          8.6%                    418.0   \n",
       "\n",
       "  Average Score (SAT Reading)  Average Score (SAT Writing)  Percent Tested  \n",
       "0                         NaN                          NaN             NaN  \n",
       "1                         NaN                          NaN             NaN  \n",
       "2                       601.0                        601.0           91.0%  \n",
       "3                       411.0                        387.0           78.9%  \n",
       "4                       428.0                        415.0           65.1%  \n",
       "\n",
       "[5 rows x 22 columns]"
      ]
     },
     "execution_count": 313,
     "metadata": {},
     "output_type": "execute_result"
    }
   ],
   "source": [
    "# Loading data\n",
    "data = pd.read_csv(\"data/scores.csv\")\n",
    "# We are not interested with 'Staten Island' district so we drop it from our data\n",
    "data = data[(data['Borough'] != 'Staten Island')]\n",
    "data.head()"
   ]
  },
  {
   "cell_type": "markdown",
   "metadata": {},
   "source": [
    "# Data summary"
   ]
  },
  {
   "cell_type": "code",
   "execution_count": 314,
   "metadata": {},
   "outputs": [
    {
     "name": "stdout",
     "output_type": "stream",
     "text": [
      "(425, 22)\n"
     ]
    },
    {
     "data": {
      "text/html": [
       "<div>\n",
       "<style scoped>\n",
       "    .dataframe tbody tr th:only-of-type {\n",
       "        vertical-align: middle;\n",
       "    }\n",
       "\n",
       "    .dataframe tbody tr th {\n",
       "        vertical-align: top;\n",
       "    }\n",
       "\n",
       "    .dataframe thead th {\n",
       "        text-align: right;\n",
       "    }\n",
       "</style>\n",
       "<table border=\"1\" class=\"dataframe\">\n",
       "  <thead>\n",
       "    <tr style=\"text-align: right;\">\n",
       "      <th></th>\n",
       "      <th>count</th>\n",
       "      <th>mean</th>\n",
       "      <th>std</th>\n",
       "      <th>min</th>\n",
       "      <th>25%</th>\n",
       "      <th>50%</th>\n",
       "      <th>75%</th>\n",
       "      <th>max</th>\n",
       "    </tr>\n",
       "  </thead>\n",
       "  <tbody>\n",
       "    <tr>\n",
       "      <th>Zip Code</th>\n",
       "      <td>425.0</td>\n",
       "      <td>10735.955294</td>\n",
       "      <td>540.326238</td>\n",
       "      <td>10001.00000</td>\n",
       "      <td>10451.00000</td>\n",
       "      <td>10472.00000</td>\n",
       "      <td>11220.00000</td>\n",
       "      <td>11694.00000</td>\n",
       "    </tr>\n",
       "    <tr>\n",
       "      <th>Latitude</th>\n",
       "      <td>425.0</td>\n",
       "      <td>40.748997</td>\n",
       "      <td>0.078319</td>\n",
       "      <td>40.58085</td>\n",
       "      <td>40.69167</td>\n",
       "      <td>40.74226</td>\n",
       "      <td>40.82230</td>\n",
       "      <td>40.88837</td>\n",
       "    </tr>\n",
       "    <tr>\n",
       "      <th>Longitude</th>\n",
       "      <td>425.0</td>\n",
       "      <td>-73.916256</td>\n",
       "      <td>0.064989</td>\n",
       "      <td>-74.03995</td>\n",
       "      <td>-73.97289</td>\n",
       "      <td>-73.92352</td>\n",
       "      <td>-73.87882</td>\n",
       "      <td>-73.72691</td>\n",
       "    </tr>\n",
       "    <tr>\n",
       "      <th>Student Enrollment</th>\n",
       "      <td>418.0</td>\n",
       "      <td>674.997608</td>\n",
       "      <td>724.245220</td>\n",
       "      <td>62.00000</td>\n",
       "      <td>354.25000</td>\n",
       "      <td>459.50000</td>\n",
       "      <td>610.00000</td>\n",
       "      <td>5447.00000</td>\n",
       "    </tr>\n",
       "    <tr>\n",
       "      <th>Average Score (SAT Math)</th>\n",
       "      <td>365.0</td>\n",
       "      <td>431.484932</td>\n",
       "      <td>71.192997</td>\n",
       "      <td>317.00000</td>\n",
       "      <td>385.00000</td>\n",
       "      <td>410.00000</td>\n",
       "      <td>455.00000</td>\n",
       "      <td>754.00000</td>\n",
       "    </tr>\n",
       "    <tr>\n",
       "      <th>Average Score (SAT Reading)</th>\n",
       "      <td>365.0</td>\n",
       "      <td>423.024658</td>\n",
       "      <td>61.169257</td>\n",
       "      <td>302.00000</td>\n",
       "      <td>386.00000</td>\n",
       "      <td>411.00000</td>\n",
       "      <td>441.00000</td>\n",
       "      <td>697.00000</td>\n",
       "    </tr>\n",
       "    <tr>\n",
       "      <th>Average Score (SAT Writing)</th>\n",
       "      <td>365.0</td>\n",
       "      <td>416.928767</td>\n",
       "      <td>63.736928</td>\n",
       "      <td>284.00000</td>\n",
       "      <td>381.00000</td>\n",
       "      <td>402.00000</td>\n",
       "      <td>434.00000</td>\n",
       "      <td>693.00000</td>\n",
       "    </tr>\n",
       "  </tbody>\n",
       "</table>\n",
       "</div>"
      ],
      "text/plain": [
       "                             count          mean         std          min  \\\n",
       "Zip Code                     425.0  10735.955294  540.326238  10001.00000   \n",
       "Latitude                     425.0     40.748997    0.078319     40.58085   \n",
       "Longitude                    425.0    -73.916256    0.064989    -74.03995   \n",
       "Student Enrollment           418.0    674.997608  724.245220     62.00000   \n",
       "Average Score (SAT Math)     365.0    431.484932   71.192997    317.00000   \n",
       "Average Score (SAT Reading)  365.0    423.024658   61.169257    302.00000   \n",
       "Average Score (SAT Writing)  365.0    416.928767   63.736928    284.00000   \n",
       "\n",
       "                                     25%          50%          75%  \\\n",
       "Zip Code                     10451.00000  10472.00000  11220.00000   \n",
       "Latitude                        40.69167     40.74226     40.82230   \n",
       "Longitude                      -73.97289    -73.92352    -73.87882   \n",
       "Student Enrollment             354.25000    459.50000    610.00000   \n",
       "Average Score (SAT Math)       385.00000    410.00000    455.00000   \n",
       "Average Score (SAT Reading)    386.00000    411.00000    441.00000   \n",
       "Average Score (SAT Writing)    381.00000    402.00000    434.00000   \n",
       "\n",
       "                                     max  \n",
       "Zip Code                     11694.00000  \n",
       "Latitude                        40.88837  \n",
       "Longitude                      -73.72691  \n",
       "Student Enrollment            5447.00000  \n",
       "Average Score (SAT Math)       754.00000  \n",
       "Average Score (SAT Reading)    697.00000  \n",
       "Average Score (SAT Writing)    693.00000  "
      ]
     },
     "execution_count": 314,
     "metadata": {},
     "output_type": "execute_result"
    }
   ],
   "source": [
    "print(data.shape)\n",
    "data.describe().transpose()"
   ]
  },
  {
   "cell_type": "markdown",
   "metadata": {},
   "source": [
    " Our independent variable (IV) is 'Borough' which is the district you will find the school"
   ]
  },
  {
   "cell_type": "code",
   "execution_count": 315,
   "metadata": {},
   "outputs": [
    {
     "data": {
      "text/plain": [
       "Brooklyn     121\n",
       "Bronx        118\n",
       "Manhattan    106\n",
       "Queens        80\n",
       "Name: Borough, dtype: int64"
      ]
     },
     "execution_count": 315,
     "metadata": {},
     "output_type": "execute_result"
    }
   ],
   "source": [
    "data['Borough'].value_counts()"
   ]
  },
  {
   "cell_type": "markdown",
   "metadata": {},
   "source": [
    "Our dependent variable (DV) will be a new feature which we will generate by getting the total score for Average Score (SAT Math), Average Score (SAT Reading) and Average Score (SAT Writing). Let's name our new feature 'total_score' as shown below:"
   ]
  },
  {
   "cell_type": "code",
   "execution_count": 316,
   "metadata": {},
   "outputs": [],
   "source": [
    "data['total_score'] = data['Average Score (SAT Reading)'] + data['Average Score (SAT Math)']    +  \\\n",
    "                      data['Average Score (SAT Writing)']"
   ]
  },
  {
   "cell_type": "markdown",
   "metadata": {},
   "source": [
    "# Let's now look at Missing data if any"
   ]
  },
  {
   "cell_type": "code",
   "execution_count": 317,
   "metadata": {},
   "outputs": [],
   "source": [
    "#Check missing values by percentage\n",
    "def check_missing_data(df):\n",
    "    total = df.isnull().sum().sort_values(ascending=False)\n",
    "    percent = (df.isnull().sum()/df.isnull().count()).sort_values(ascending=False)\n",
    "    missing_data = pd.concat([total, percent*100], axis=1, keys=['Total', 'Percent'])\n",
    "    return missing_data.loc[missing_data['Percent'] > 0].head(40)"
   ]
  },
  {
   "cell_type": "code",
   "execution_count": 318,
   "metadata": {},
   "outputs": [
    {
     "data": {
      "text/html": [
       "<div>\n",
       "<style scoped>\n",
       "    .dataframe tbody tr th:only-of-type {\n",
       "        vertical-align: middle;\n",
       "    }\n",
       "\n",
       "    .dataframe tbody tr th {\n",
       "        vertical-align: top;\n",
       "    }\n",
       "\n",
       "    .dataframe thead th {\n",
       "        text-align: right;\n",
       "    }\n",
       "</style>\n",
       "<table border=\"1\" class=\"dataframe\">\n",
       "  <thead>\n",
       "    <tr style=\"text-align: right;\">\n",
       "      <th></th>\n",
       "      <th>Total</th>\n",
       "      <th>Percent</th>\n",
       "    </tr>\n",
       "  </thead>\n",
       "  <tbody>\n",
       "    <tr>\n",
       "      <th>total_score</th>\n",
       "      <td>60</td>\n",
       "      <td>14.117647</td>\n",
       "    </tr>\n",
       "    <tr>\n",
       "      <th>Average Score (SAT Writing)</th>\n",
       "      <td>60</td>\n",
       "      <td>14.117647</td>\n",
       "    </tr>\n",
       "    <tr>\n",
       "      <th>Average Score (SAT Reading)</th>\n",
       "      <td>60</td>\n",
       "      <td>14.117647</td>\n",
       "    </tr>\n",
       "    <tr>\n",
       "      <th>Average Score (SAT Math)</th>\n",
       "      <td>60</td>\n",
       "      <td>14.117647</td>\n",
       "    </tr>\n",
       "    <tr>\n",
       "      <th>Percent Tested</th>\n",
       "      <td>49</td>\n",
       "      <td>11.529412</td>\n",
       "    </tr>\n",
       "    <tr>\n",
       "      <th>Percent Asian</th>\n",
       "      <td>7</td>\n",
       "      <td>1.647059</td>\n",
       "    </tr>\n",
       "    <tr>\n",
       "      <th>Percent Hispanic</th>\n",
       "      <td>7</td>\n",
       "      <td>1.647059</td>\n",
       "    </tr>\n",
       "    <tr>\n",
       "      <th>Percent Black</th>\n",
       "      <td>7</td>\n",
       "      <td>1.647059</td>\n",
       "    </tr>\n",
       "    <tr>\n",
       "      <th>Percent White</th>\n",
       "      <td>7</td>\n",
       "      <td>1.647059</td>\n",
       "    </tr>\n",
       "    <tr>\n",
       "      <th>Student Enrollment</th>\n",
       "      <td>7</td>\n",
       "      <td>1.647059</td>\n",
       "    </tr>\n",
       "    <tr>\n",
       "      <th>Start Time</th>\n",
       "      <td>4</td>\n",
       "      <td>0.941176</td>\n",
       "    </tr>\n",
       "    <tr>\n",
       "      <th>End Time</th>\n",
       "      <td>4</td>\n",
       "      <td>0.941176</td>\n",
       "    </tr>\n",
       "  </tbody>\n",
       "</table>\n",
       "</div>"
      ],
      "text/plain": [
       "                             Total    Percent\n",
       "total_score                     60  14.117647\n",
       "Average Score (SAT Writing)     60  14.117647\n",
       "Average Score (SAT Reading)     60  14.117647\n",
       "Average Score (SAT Math)        60  14.117647\n",
       "Percent Tested                  49  11.529412\n",
       "Percent Asian                    7   1.647059\n",
       "Percent Hispanic                 7   1.647059\n",
       "Percent Black                    7   1.647059\n",
       "Percent White                    7   1.647059\n",
       "Student Enrollment               7   1.647059\n",
       "Start Time                       4   0.941176\n",
       "End Time                         4   0.941176"
      ]
     },
     "execution_count": 318,
     "metadata": {},
     "output_type": "execute_result"
    }
   ],
   "source": [
    "#missing values\n",
    "check_missing_data(data)"
   ]
  },
  {
   "cell_type": "markdown",
   "metadata": {},
   "source": [
    "Let's drop rows that have our DV and IV missing"
   ]
  },
  {
   "cell_type": "code",
   "execution_count": 319,
   "metadata": {},
   "outputs": [],
   "source": [
    "data = data[['Borough', 'total_score']].dropna()    "
   ]
  },
  {
   "cell_type": "markdown",
   "metadata": {},
   "source": [
    "# Check outliers"
   ]
  },
  {
   "cell_type": "code",
   "execution_count": 320,
   "metadata": {},
   "outputs": [],
   "source": [
    "def detect_outliers(df, n, features):\n",
    "        \"\"\"\n",
    "        Takes a dataframe df of features and returns a list of the indices\n",
    "        corresponding to the observations containing more than n outliers according\n",
    "        to the Tukey method.\n",
    "        \"\"\"\n",
    "        outlier_indices = []\n",
    "\n",
    "        # iterate over features(columns)\n",
    "        for col in features:\n",
    "            # 1st quartile (25%)\n",
    "            Q1 = np.percentile(df[col], 25)\n",
    "            # 3rd quartile (75%)\n",
    "            Q3 = np.percentile(df[col],75)\n",
    "            # Interquartile range (IQR)\n",
    "            IQR = Q3 - Q1\n",
    "\n",
    "            # outlier step\n",
    "            outlier_step = 1.5 * IQR\n",
    "\n",
    "            # Determine a list of indices of outliers for feature col\n",
    "            outlier_list_col = df[(df[col] < Q1 - outlier_step) | (df[col] > Q3 + outlier_step )].index\n",
    "\n",
    "            # append the found outlier indices for col to the list of outlier indices\n",
    "            outlier_indices.extend(outlier_list_col)\n",
    "\n",
    "        # select observations containing more than 2 outliers\n",
    "        outlier_indices = Counter(outlier_indices)\n",
    "        multiple_outliers = list( k for k, v in outlier_indices.items() if v > n )\n",
    "\n",
    "        return multiple_outliers"
   ]
  },
  {
   "cell_type": "code",
   "execution_count": 321,
   "metadata": {},
   "outputs": [
    {
     "data": {
      "text/plain": [
       "[2,\n",
       " 7,\n",
       " 18,\n",
       " 22,\n",
       " 27,\n",
       " 29,\n",
       " 32,\n",
       " 39,\n",
       " 55,\n",
       " 58,\n",
       " 59,\n",
       " 61,\n",
       " 69,\n",
       " 80,\n",
       " 105,\n",
       " 203,\n",
       " 208,\n",
       " 241,\n",
       " 249,\n",
       " 251,\n",
       " 277,\n",
       " 320,\n",
       " 326,\n",
       " 356,\n",
       " 385,\n",
       " 424,\n",
       " 434]"
      ]
     },
     "execution_count": 321,
     "metadata": {},
     "output_type": "execute_result"
    }
   ],
   "source": [
    "detect_outliers(data, 0, ['total_score'])"
   ]
  },
  {
   "cell_type": "code",
   "execution_count": 323,
   "metadata": {},
   "outputs": [
    {
     "data": {
      "text/plain": [
       "<matplotlib.axes._subplots.AxesSubplot at 0x2e2a4ed5d48>"
      ]
     },
     "execution_count": 323,
     "metadata": {},
     "output_type": "execute_result"
    },
    {
     "data": {
      "image/png": "[encoded data removed]",
      "text/plain": [
       "<Figure size 432x288 with 1 Axes>"
      ]
     },
     "metadata": {
      "needs_background": "light"
     },
     "output_type": "display_data"
    }
   ],
   "source": [
    "sns.boxplot(x=data['total_score'])"
   ]
  },
  {
   "cell_type": "markdown",
   "metadata": {},
   "source": [
    "Drop outliers"
   ]
  },
  {
   "cell_type": "code",
   "execution_count": 324,
   "metadata": {},
   "outputs": [],
   "source": [
    "def drop_outliers_rows_with_percentile(df, column):\n",
    "    # 1st quartile (25%)\n",
    "    Q1 = np.percentile(df[column], 25)\n",
    "    # 3rd quartile (75%)\n",
    "    Q3 = np.percentile(df[column],75)\n",
    "    # Interquartile range (IQR)\n",
    "    IQR = Q3 - Q1\n",
    "\n",
    "    # outlier step\n",
    "    outlier_step = 1.5 * IQR\n",
    "    \n",
    "    choice = df.loc[(df[column] < (Q3 + outlier_step)) & (df[column] > (Q1 - outlier_step))]\n",
    "\n",
    "    #df = df[(df[column] < q3plus) & (df[column] > q1minus)]\n",
    "    return choice"
   ]
  },
  {
   "cell_type": "code",
   "execution_count": 325,
   "metadata": {},
   "outputs": [
    {
     "name": "stdout",
     "output_type": "stream",
     "text": [
      "==========Running ==============\n",
      "==========Running ==============\n",
      "==========Running ==============\n"
     ]
    }
   ],
   "source": [
    "while len(detect_outliers(data, 0, ['total_score']))>0:\n",
    "    print('==========Running ==============')\n",
    "    data = drop_outliers_rows_with_percentile(data, 'total_score')"
   ]
  },
  {
   "cell_type": "code",
   "execution_count": 326,
   "metadata": {},
   "outputs": [
    {
     "data": {
      "text/plain": [
       "<matplotlib.axes._subplots.AxesSubplot at 0x2e2a5130308>"
      ]
     },
     "execution_count": 326,
     "metadata": {},
     "output_type": "execute_result"
    },
    {
     "data": {
      "image/png": "[encoded data removed]",
      "text/plain": [
       "<Figure size 432x288 with 1 Axes>"
      ]
     },
     "metadata": {
      "needs_background": "light"
     },
     "output_type": "display_data"
    }
   ],
   "source": [
    "#Check outliers again\n",
    "sns.boxplot(x=data['total_score'])"
   ]
  },
  {
   "cell_type": "markdown",
   "metadata": {},
   "source": [
    "Let's now find the mean score of the each district across all schools."
   ]
  },
  {
   "cell_type": "code",
   "execution_count": 327,
   "metadata": {},
   "outputs": [
    {
     "name": "stdout",
     "output_type": "stream",
     "text": [
      "Brooklyn_std : 105.91636031992739\n",
      "Bronx_std : 88.56336518479604\n",
      "Manhattan_std : 102.68834607411564\n",
      "Queens_std : 112.36627331424262\n"
     ]
    },
    {
     "data": {
      "image/png": "[encoded data removed]",
      "text/plain": [
       "<Figure size 720x360 with 1 Axes>"
      ]
     },
     "metadata": {},
     "output_type": "display_data"
    }
   ],
   "source": [
    "x = ['Brooklyn', 'Bronx', 'Manhattan', 'Queens']\n",
    "district_dict = {}\n",
    "\n",
    "#Assigns each test score series to a dictionary key\n",
    "for district in x:\n",
    "    district_dict[district] = data[data['Borough'] == district]['total_score']\n",
    "\n",
    "\n",
    "y = []\n",
    "yerror = []\n",
    "#Assigns the mean score and 95% confidence limit to each district\n",
    "for district in x:\n",
    "    y.append(district_dict[district].mean())\n",
    "    yerror.append(1.96*district_dict[district].std()/np.sqrt(district_dict[district].shape[0]))    \n",
    "    print(district + '_std : {}'.format(district_dict[district].std()))\n",
    "    \n",
    "sns.set(font_scale=1.8)\n",
    "fig = plt.figure(figsize=(10,5))\n",
    "ax = sns.barplot(x, y, yerr=yerror)\n",
    "ax.set_ylabel('Average Total SAT Score')\n",
    "plt.show()"
   ]
  },
  {
   "cell_type": "markdown",
   "metadata": {},
   "source": [
    "Visualize the means using a boxplot"
   ]
  },
  {
   "cell_type": "code",
   "execution_count": 328,
   "metadata": {},
   "outputs": [
    {
     "data": {
      "image/png": "[encoded data removed]",
      "text/plain": [
       "<Figure size 864x576 with 1 Axes>"
      ]
     },
     "metadata": {},
     "output_type": "display_data"
    }
   ],
   "source": [
    "#Create a boxplot\n",
    "data.boxplot('total_score', by='Borough', figsize=(12, 8))\n",
    "\n",
    "ctrl = data['total_score'][data.Borough == 'ctrl']\n",
    "\n",
    "grps = pd.unique(data.Borough.values)\n",
    "d_data = {grp:data['total_score'][data.Borough == grp] for grp in grps}\n",
    "\n",
    "k = len(pd.unique(data.Borough))  # number of conditions\n",
    "N = len(data.values)  # conditions times participants\n",
    "n = data.groupby('Borough').size()[0] #Participants in each condition"
   ]
  },
  {
   "cell_type": "markdown",
   "metadata": {},
   "source": [
    "Judging by the Boxplot there are differences in means among the districts. However, we can not tell if the difference is statistically significant."
   ]
  },
  {
   "cell_type": "markdown",
   "metadata": {},
   "source": [
    "# The Null and Alternative Hypothesis\n",
    "\n",
    "There are no significant differences between the groups' mean SAT scores.\n",
    "\n",
    "H0:μ1=μ2=μ3=μ4\n",
    "\n",
    "There is a significant difference between the groups' mean SAT scores.\n",
    "\n",
    "Ha:μi≠μj\n",
    "\n",
    "Where μi\n",
    "and μj can be the mean of any group. If there is at least one group with a significant difference with another group, the null hypothesis will be rejected.\n",
    "\n",
    "Similar to the t-test, we can calculate a score for the ANOVA. Then we can look up the score in the F-distribution and obtain a p-value.\n",
    "\n",
    "The F-statistic is defined as follows:\n",
    "\n",
    "F=MSb/MSw\n",
    "\n",
    "MSb=SSb/K−1\n",
    "\n",
    "MSw=SSw/N−K\n",
    "\n",
    "SSb=nk∑(xk¯−xG¯)2\n",
    "\n",
    "SSw=∑(xi−xk¯)2\n",
    "\n",
    "Where MSb\n",
    "is the estimated variance between groups and MSw is the estimated variance within groups, xk¯ is the mean within each group, nk is the sample size for each group, xi is the individual data point, and xG¯ is the total mean.\n",
    "\n",
    "This is quite a lot of math, fortunately scipy has a function that plugs in all the values for us as shown below"
   ]
  },
  {
   "cell_type": "markdown",
   "metadata": {},
   "source": [
    "# ANOVA with scipy.stats"
   ]
  },
  {
   "cell_type": "code",
   "execution_count": 329,
   "metadata": {},
   "outputs": [
    {
     "data": {
      "text/plain": [
       "F_onewayResult(statistic=12.635623683917835, pvalue=7.893957116690208e-08)"
      ]
     },
     "execution_count": 329,
     "metadata": {},
     "output_type": "execute_result"
    }
   ],
   "source": [
    "stats.f_oneway(\n",
    "             district_dict['Brooklyn'], district_dict['Bronx'], \\\n",
    "             district_dict['Manhattan'], district_dict['Queens']\n",
    ")"
   ]
  },
  {
   "cell_type": "markdown",
   "metadata": {},
   "source": [
    "The resulting pvalue was less than 0.05. We can reject the null hypothesis and conclude that there is a significant difference between the SAT scores for each district. Even though we've obtained a very low p-value, we cannot make any assumptions about the magnitude of the effect. Also scipy does not calculate SSb and SSw, so it is probably better to write our own code."
   ]
  },
  {
   "cell_type": "code",
   "execution_count": 330,
   "metadata": {},
   "outputs": [
    {
     "name": "stdout",
     "output_type": "stream",
     "text": [
      "F_statistic: 9.447286962432313\n"
     ]
    }
   ],
   "source": [
    "districts = ['Brooklyn', 'Bronx', 'Manhattan', 'Queens']\n",
    "\n",
    "ss_b = 0\n",
    "for d in districts:\n",
    "    ss_b += district_dict[d].shape[0] * \\\n",
    "            np.sum((district_dict[d].mean() - data['total_score'].mean())**2)\n",
    "\n",
    "ss_w = 0\n",
    "for d in districts:\n",
    "    ss_w += np.sum((district_dict[d] - district_dict[d].mean())**2)\n",
    "\n",
    "msb = ss_b/4\n",
    "msw = ss_w/(len(data)-5)\n",
    "f=msb/msw\n",
    "print('F_statistic: {}'.format(f))"
   ]
  },
  {
   "cell_type": "markdown",
   "metadata": {},
   "source": [
    "# ANOVA with statsmodels\n",
    "Using statsmodels, we get a bit more information and enter the model as a regression formula"
   ]
  },
  {
   "cell_type": "code",
   "execution_count": 331,
   "metadata": {},
   "outputs": [
    {
     "data": {
      "text/html": [
       "<table class=\"simpletable\">\n",
       "<caption>OLS Regression Results</caption>\n",
       "<tr>\n",
       "  <th>Dep. Variable:</th>       <td>total_score</td>   <th>  R-squared:         </th> <td>   0.105</td>\n",
       "</tr>\n",
       "<tr>\n",
       "  <th>Model:</th>                   <td>OLS</td>       <th>  Adj. R-squared:    </th> <td>   0.097</td>\n",
       "</tr>\n",
       "<tr>\n",
       "  <th>Method:</th>             <td>Least Squares</td>  <th>  F-statistic:       </th> <td>   12.64</td>\n",
       "</tr>\n",
       "<tr>\n",
       "  <th>Date:</th>             <td>Wed, 26 Feb 2020</td> <th>  Prob (F-statistic):</th> <td>7.89e-08</td>\n",
       "</tr>\n",
       "<tr>\n",
       "  <th>Time:</th>                 <td>13:33:49</td>     <th>  Log-Likelihood:    </th> <td> -1967.4</td>\n",
       "</tr>\n",
       "<tr>\n",
       "  <th>No. Observations:</th>      <td>   326</td>      <th>  AIC:               </th> <td>   3943.</td>\n",
       "</tr>\n",
       "<tr>\n",
       "  <th>Df Residuals:</th>          <td>   322</td>      <th>  BIC:               </th> <td>   3958.</td>\n",
       "</tr>\n",
       "<tr>\n",
       "  <th>Df Model:</th>              <td>     3</td>      <th>                     </th>     <td> </td>   \n",
       "</tr>\n",
       "<tr>\n",
       "  <th>Covariance Type:</th>      <td>nonrobust</td>    <th>                     </th>     <td> </td>   \n",
       "</tr>\n",
       "</table>\n",
       "<table class=\"simpletable\">\n",
       "<tr>\n",
       "             <td></td>                <th>coef</th>     <th>std err</th>      <th>t</th>      <th>P>|t|</th>  <th>[0.025</th>    <th>0.975]</th>  \n",
       "</tr>\n",
       "<tr>\n",
       "  <th>Intercept</th>               <td> 1188.3053</td> <td>   10.437</td> <td>  113.853</td> <td> 0.000</td> <td> 1167.772</td> <td> 1208.839</td>\n",
       "</tr>\n",
       "<tr>\n",
       "  <th>C(Borough)[T.Brooklyn]</th>  <td>   18.5869</td> <td>   14.505</td> <td>    1.281</td> <td> 0.201</td> <td>   -9.950</td> <td>   47.123</td>\n",
       "</tr>\n",
       "<tr>\n",
       "  <th>C(Borough)[T.Manhattan]</th> <td>   46.2600</td> <td>   16.091</td> <td>    2.875</td> <td> 0.004</td> <td>   14.603</td> <td>   77.917</td>\n",
       "</tr>\n",
       "<tr>\n",
       "  <th>C(Borough)[T.Queens]</th>    <td>   98.2781</td> <td>   16.775</td> <td>    5.858</td> <td> 0.000</td> <td>   65.275</td> <td>  131.281</td>\n",
       "</tr>\n",
       "</table>\n",
       "<table class=\"simpletable\">\n",
       "<tr>\n",
       "  <th>Omnibus:</th>       <td> 6.834</td> <th>  Durbin-Watson:     </th> <td>   1.948</td>\n",
       "</tr>\n",
       "<tr>\n",
       "  <th>Prob(Omnibus):</th> <td> 0.033</td> <th>  Jarque-Bera (JB):  </th> <td>   6.670</td>\n",
       "</tr>\n",
       "<tr>\n",
       "  <th>Skew:</th>          <td> 0.343</td> <th>  Prob(JB):          </th> <td>  0.0356</td>\n",
       "</tr>\n",
       "<tr>\n",
       "  <th>Kurtosis:</th>      <td> 3.148</td> <th>  Cond. No.          </th> <td>    4.55</td>\n",
       "</tr>\n",
       "</table><br/><br/>Warnings:<br/>[1] Standard Errors assume that the covariance matrix of the errors is correctly specified."
      ],
      "text/plain": [
       "<class 'statsmodels.iolib.summary.Summary'>\n",
       "\"\"\"\n",
       "                            OLS Regression Results                            \n",
       "==============================================================================\n",
       "Dep. Variable:            total_score   R-squared:                       0.105\n",
       "Model:                            OLS   Adj. R-squared:                  0.097\n",
       "Method:                 Least Squares   F-statistic:                     12.64\n",
       "Date:                Wed, 26 Feb 2020   Prob (F-statistic):           7.89e-08\n",
       "Time:                        13:33:49   Log-Likelihood:                -1967.4\n",
       "No. Observations:                 326   AIC:                             3943.\n",
       "Df Residuals:                     322   BIC:                             3958.\n",
       "Df Model:                           3                                         \n",
       "Covariance Type:            nonrobust                                         \n",
       "===========================================================================================\n",
       "                              coef    std err          t      P>|t|      [0.025      0.975]\n",
       "-------------------------------------------------------------------------------------------\n",
       "Intercept                1188.3053     10.437    113.853      0.000    1167.772    1208.839\n",
       "C(Borough)[T.Brooklyn]     18.5869     14.505      1.281      0.201      -9.950      47.123\n",
       "C(Borough)[T.Manhattan]    46.2600     16.091      2.875      0.004      14.603      77.917\n",
       "C(Borough)[T.Queens]       98.2781     16.775      5.858      0.000      65.275     131.281\n",
       "==============================================================================\n",
       "Omnibus:                        6.834   Durbin-Watson:                   1.948\n",
       "Prob(Omnibus):                  0.033   Jarque-Bera (JB):                6.670\n",
       "Skew:                           0.343   Prob(JB):                       0.0356\n",
       "Kurtosis:                       3.148   Cond. No.                         4.55\n",
       "==============================================================================\n",
       "\n",
       "Warnings:\n",
       "[1] Standard Errors assume that the covariance matrix of the errors is correctly specified.\n",
       "\"\"\""
      ]
     },
     "execution_count": 331,
     "metadata": {},
     "output_type": "execute_result"
    }
   ],
   "source": [
    "results = ols('total_score ~ C(Borough)', data=data).fit()\n",
    "results.summary()"
   ]
  },
  {
   "cell_type": "markdown",
   "metadata": {},
   "source": [
    "Let’s interpret the table. Overall the model is significiant, F(3,322)= 12.64, p < 0.05. This tells us that there is a significant difference in the group means. Coming from the ANOVA framework, the information we are really after in this table it the F-statistic and it’s corresponding p-value.This tells us if we explained a significant amount of the overall variance. "
   ]
  },
  {
   "cell_type": "markdown",
   "metadata": {},
   "source": [
    "To test between groups, we need to do some post-hoc testing where we can compare all groups against each other. We are still missing some useful information with this method, we need an ANOVA table."
   ]
  },
  {
   "cell_type": "code",
   "execution_count": 332,
   "metadata": {},
   "outputs": [
    {
     "data": {
      "text/html": [
       "<div>\n",
       "<style scoped>\n",
       "    .dataframe tbody tr th:only-of-type {\n",
       "        vertical-align: middle;\n",
       "    }\n",
       "\n",
       "    .dataframe tbody tr th {\n",
       "        vertical-align: top;\n",
       "    }\n",
       "\n",
       "    .dataframe thead th {\n",
       "        text-align: right;\n",
       "    }\n",
       "</style>\n",
       "<table border=\"1\" class=\"dataframe\">\n",
       "  <thead>\n",
       "    <tr style=\"text-align: right;\">\n",
       "      <th></th>\n",
       "      <th>sum_sq</th>\n",
       "      <th>df</th>\n",
       "      <th>F</th>\n",
       "      <th>PR(&gt;F)</th>\n",
       "    </tr>\n",
       "  </thead>\n",
       "  <tbody>\n",
       "    <tr>\n",
       "      <th>C(Borough)</th>\n",
       "      <td>3.922925e+05</td>\n",
       "      <td>3.0</td>\n",
       "      <td>12.635624</td>\n",
       "      <td>7.893957e-08</td>\n",
       "    </tr>\n",
       "    <tr>\n",
       "      <th>Residual</th>\n",
       "      <td>3.332330e+06</td>\n",
       "      <td>322.0</td>\n",
       "      <td>NaN</td>\n",
       "      <td>NaN</td>\n",
       "    </tr>\n",
       "  </tbody>\n",
       "</table>\n",
       "</div>"
      ],
      "text/plain": [
       "                  sum_sq     df          F        PR(>F)\n",
       "C(Borough)  3.922925e+05    3.0  12.635624  7.893957e-08\n",
       "Residual    3.332330e+06  322.0        NaN           NaN"
      ]
     },
     "execution_count": 332,
     "metadata": {},
     "output_type": "execute_result"
    }
   ],
   "source": [
    "aov_table = sm.stats.anova_lm(results, typ=2)\n",
    "aov_table"
   ]
  },
  {
   "cell_type": "markdown",
   "metadata": {},
   "source": [
    "Let’s break down this ANOVA table. The Borough (district) row is the between groups effect which is the overall experimental effect. The sum of squares for the model is how much variance is explained by our model. The current model explains a significant amount of variance, F(3,322)= 12.64, p < 0.05."
   ]
  },
  {
   "cell_type": "markdown",
   "metadata": {},
   "source": [
    "# The Effect Size\n",
    "\n",
    "We can calculate the magnitude of the effect to determine how large the difference is. There are a few different effect sizes one can use: eta squared, and omega squared. Omega squared is considered a better measure of effect size than eta squared because it is unbiased in it’s calculation. We will use Eta-squared here."
   ]
  },
  {
   "cell_type": "code",
   "execution_count": 333,
   "metadata": {},
   "outputs": [],
   "source": [
    "def anova_table(aov):\n",
    "    aov['mean_sq'] = aov[:]['sum_sq']/aov[:]['df']\n",
    "    \n",
    "    aov['eta_sq'] = aov[:-1]['sum_sq']/sum(aov['sum_sq'])\n",
    "    \n",
    "    aov['omega_sq'] = (aov[:-1]['sum_sq']-(aov[:-1]['df']*aov['mean_sq'][-1]))/(sum(aov['sum_sq'])+aov['mean_sq'][-1])\n",
    "    \n",
    "    cols = ['sum_sq', 'df', 'mean_sq', 'F', 'PR(>F)', 'eta_sq', 'omega_sq']\n",
    "    aov = aov[cols]\n",
    "    return aov"
   ]
  },
  {
   "cell_type": "code",
   "execution_count": 334,
   "metadata": {},
   "outputs": [
    {
     "data": {
      "text/html": [
       "<div>\n",
       "<style scoped>\n",
       "    .dataframe tbody tr th:only-of-type {\n",
       "        vertical-align: middle;\n",
       "    }\n",
       "\n",
       "    .dataframe tbody tr th {\n",
       "        vertical-align: top;\n",
       "    }\n",
       "\n",
       "    .dataframe thead th {\n",
       "        text-align: right;\n",
       "    }\n",
       "</style>\n",
       "<table border=\"1\" class=\"dataframe\">\n",
       "  <thead>\n",
       "    <tr style=\"text-align: right;\">\n",
       "      <th></th>\n",
       "      <th>sum_sq</th>\n",
       "      <th>df</th>\n",
       "      <th>mean_sq</th>\n",
       "      <th>F</th>\n",
       "      <th>PR(&gt;F)</th>\n",
       "      <th>eta_sq</th>\n",
       "      <th>omega_sq</th>\n",
       "    </tr>\n",
       "  </thead>\n",
       "  <tbody>\n",
       "    <tr>\n",
       "      <th>C(Borough)</th>\n",
       "      <td>3.922925e+05</td>\n",
       "      <td>3.0</td>\n",
       "      <td>130764.166350</td>\n",
       "      <td>12.635624</td>\n",
       "      <td>7.893957e-08</td>\n",
       "      <td>0.105324</td>\n",
       "      <td>0.09672</td>\n",
       "    </tr>\n",
       "    <tr>\n",
       "      <th>Residual</th>\n",
       "      <td>3.332330e+06</td>\n",
       "      <td>322.0</td>\n",
       "      <td>10348.849382</td>\n",
       "      <td>NaN</td>\n",
       "      <td>NaN</td>\n",
       "      <td>NaN</td>\n",
       "      <td>NaN</td>\n",
       "    </tr>\n",
       "  </tbody>\n",
       "</table>\n",
       "</div>"
      ],
      "text/plain": [
       "                  sum_sq     df        mean_sq          F        PR(>F)  \\\n",
       "C(Borough)  3.922925e+05    3.0  130764.166350  12.635624  7.893957e-08   \n",
       "Residual    3.332330e+06  322.0   10348.849382        NaN           NaN   \n",
       "\n",
       "              eta_sq  omega_sq  \n",
       "C(Borough)  0.105324   0.09672  \n",
       "Residual         NaN       NaN  "
      ]
     },
     "execution_count": 334,
     "metadata": {},
     "output_type": "execute_result"
    }
   ],
   "source": [
    "anova_table(aov_table)"
   ]
  },
  {
   "cell_type": "markdown",
   "metadata": {},
   "source": [
    "The general rules of thumb given by Cohen and Miles & Shevlin (2001) for analyzing eta-squared, η2:\n",
    "\n",
    "Small effect: 0.01\n",
    "\n",
    "Medium ffect: 0.06\n",
    "\n",
    "Large effect: 0.14\n",
    "\n",
    "From our calculations, the effect size 0.105324 for this ANOVA test is \"Medium\""
   ]
  },
  {
   "cell_type": "markdown",
   "metadata": {},
   "source": [
    "# Pairwise Comparisons\n",
    "# Bonferroni Correction Post-hoc Comparison\n",
    "\n",
    "Pairwise ttest"
   ]
  },
  {
   "cell_type": "code",
   "execution_count": 335,
   "metadata": {},
   "outputs": [
    {
     "name": "stdout",
     "output_type": "stream",
     "text": [
      "Brooklyn Bronx\n",
      "Ttest_indResult(statistic=1.331047483704116, pvalue=0.18472753083925217)\n",
      "Brooklyn Manhattan\n",
      "Ttest_indResult(statistic=-1.6967961266794305, pvalue=0.0915761954510609)\n",
      "Brooklyn Queens\n",
      "Ttest_indResult(statistic=-4.521075398052852, pvalue=1.1916448744493415e-05)\n",
      "Bronx Manhattan\n",
      "Ttest_indResult(statistic=-3.0866990572323005, pvalue=0.002381254872156064)\n",
      "Bronx Queens\n",
      "Ttest_indResult(statistic=-6.05502593296791, pvalue=1.0421320029615227e-08)\n",
      "Manhattan Queens\n",
      "Ttest_indResult(statistic=-2.7465560945004124, pvalue=0.006897869020349316)\n"
     ]
    }
   ],
   "source": [
    "# Get all race pairs\n",
    "district_pairs = []\n",
    "\n",
    "for district1 in range(3):\n",
    "    for district2  in range(district1+1,4):\n",
    "        district_pairs.append((districts[district1], districts[district2]))\n",
    "\n",
    "# Conduct t-test on each pair\n",
    "for district1, district2 in district_pairs: \n",
    "    print(district1, district2)\n",
    "    print(stats.ttest_ind(data['total_score'][data['Borough'] == district1], data['total_score'][data['Borough'] == district2])) "
   ]
  },
  {
   "cell_type": "markdown",
   "metadata": {},
   "source": [
    "First the corrected p-value needs to be calculated. This can be done using the formula:\n",
    "\n",
    "p-value/no.# of comparisons = 0.05/6 = 0.008333\n",
    "\n",
    "Now the t-tests that are conducted have to have a p-value less than 0.008333 in order to be considered significant.\n",
    "\n",
    "=================================================================================================================   "
   ]
  },
  {
   "cell_type": "markdown",
   "metadata": {},
   "source": [
    "# Tukey’s HSD Post-hoc comparison"
   ]
  },
  {
   "cell_type": "code",
   "execution_count": 337,
   "metadata": {},
   "outputs": [
    {
     "data": {
      "text/html": [
       "<table class=\"simpletable\">\n",
       "<caption>Multiple Comparison of Means - Tukey HSD, FWER=0.05</caption>\n",
       "<tr>\n",
       "   <th>group1</th>    <th>group2</th>   <th>meandiff</th>  <th>p-adj</th>   <th>lower</th>    <th>upper</th>  <th>reject</th>\n",
       "</tr>\n",
       "<tr>\n",
       "    <td>Bronx</td>   <td>Brooklyn</td>   <td>18.5869</td> <td>0.5666</td> <td>-18.8735</td>  <td>56.0473</td>  <td>False</td>\n",
       "</tr>\n",
       "<tr>\n",
       "    <td>Bronx</td>   <td>Manhattan</td>   <td>46.26</td>  <td>0.0223</td>  <td>4.7037</td>   <td>87.8162</td>  <td>True</td> \n",
       "</tr>\n",
       "<tr>\n",
       "    <td>Bronx</td>    <td>Queens</td>    <td>98.2781</td>  <td>0.001</td>  <td>54.954</td>  <td>141.6022</td>  <td>True</td> \n",
       "</tr>\n",
       "<tr>\n",
       "  <td>Brooklyn</td>  <td>Manhattan</td>  <td>27.6731</td> <td>0.3023</td> <td>-13.2789</td>  <td>68.625</td>   <td>False</td>\n",
       "</tr>\n",
       "<tr>\n",
       "  <td>Brooklyn</td>   <td>Queens</td>    <td>79.6912</td>  <td>0.001</td>  <td>36.9464</td> <td>122.4359</td>  <td>True</td> \n",
       "</tr>\n",
       "<tr>\n",
       "  <td>Manhattan</td>  <td>Queens</td>    <td>52.0181</td> <td>0.0209</td>  <td>5.6418</td>   <td>98.3944</td>  <td>True</td> \n",
       "</tr>\n",
       "</table>"
      ],
      "text/plain": [
       "<class 'statsmodels.iolib.table.SimpleTable'>"
      ]
     },
     "execution_count": 337,
     "metadata": {},
     "output_type": "execute_result"
    },
    {
     "data": {
      "image/png": "[encoded data removed]",
      "text/plain": [
       "<Figure size 720x432 with 1 Axes>"
      ]
     },
     "metadata": {},
     "output_type": "display_data"
    }
   ],
   "source": [
    "#mc = MultiComparison(data['total_score'], data['Borough'])\n",
    "#mc_results = mc.tukeyhsd()\n",
    "#print(mc_results)\n",
    "\n",
    "# Plot pairwise TukeyHSD comparisons and color by significance level\n",
    "tukey = pairwise_tukeyhsd(endog=data.total_score,     # Data\n",
    "                          groups=data.Borough,   # Groups\n",
    "                          alpha=0.05)          # Significance level\n",
    "\n",
    "tukey.plot_simultaneous()    # Plot group confidence intervals\n",
    "plt.vlines(x=49.57,ymin=-0.5,ymax=4.5, color=\"red\")\n",
    "\n",
    "tukey.summary() "
   ]
  },
  {
   "cell_type": "markdown",
   "metadata": {},
   "source": [
    "The output of the Tukey test shows the average difference, a confidence interval as well as whether you should reject the null hypothesis for each pair of groups(districts) at the given significance level. In our case, the test suggests we reject the null hypothesis for 4 pairs, with each pair including either \"Queens\" district. This suggests the score from this district is more likely different from the others. The 95% confidence interval plot reinforces the results visually: \"Queens\" district's confidence intervals does not overlap any other district's confidence interval."
   ]
  },
  {
   "cell_type": "markdown",
   "metadata": {},
   "source": [
    "# Assumptions/Model Diagnostics\n",
    "When working with linear regression and ANOVA models, the assumptions pertain to the residuals and not the variables themselves."
   ]
  },
  {
   "cell_type": "code",
   "execution_count": 338,
   "metadata": {},
   "outputs": [
    {
     "data": {
      "text/plain": [
       "{'jb': 6.670176701018685,\n",
       " 'jbpv': 0.035611439783536356,\n",
       " 'skew': 0.3425074220909507,\n",
       " 'kurtosis': 3.147684178907809,\n",
       " 'omni': 6.834389389203184,\n",
       " 'omnipv': 0.032804332148951634,\n",
       " 'condno': 4.545537785282993,\n",
       " 'mineigval': 18.78965671663114}"
      ]
     },
     "execution_count": 338,
     "metadata": {},
     "output_type": "execute_result"
    }
   ],
   "source": [
    "results.diagn"
   ]
  },
  {
   "cell_type": "markdown",
   "metadata": {},
   "source": [
    "These are the same diagnostics from the bottom of the regression table from before. The Durban-Watson tests is to detect the presence of autocorrelation (not provided when calling diagnostics this way), Jarque-Bera (jb; jbpv is p-value) tests the assumption of normality, Omnibus (omni; omnipv is p-value) tests the assumption of homogeneity of variance, and the Condition Number (condno) assess multicollinearity. Condition Number values over 20 are indicative of multicollinearity."
   ]
  },
  {
   "cell_type": "markdown",
   "metadata": {},
   "source": [
    "# Other ways to check assumptions"
   ]
  },
  {
   "cell_type": "markdown",
   "metadata": {},
   "source": [
    "# 1. Homogeneity of Variance\n",
    "\n",
    "We will use the Levene’s test to test for equal variances between groups"
   ]
  },
  {
   "cell_type": "code",
   "execution_count": 339,
   "metadata": {},
   "outputs": [
    {
     "data": {
      "text/plain": [
       "LeveneResult(statistic=1.5898292305717336, pvalue=0.1917065148675515)"
      ]
     },
     "execution_count": 339,
     "metadata": {},
     "output_type": "execute_result"
    }
   ],
   "source": [
    "stats.levene(data['total_score'][data['Borough'] == 'Brooklyn'],\n",
    "             data['total_score'][data['Borough'] == 'Bronx'],\n",
    "             data['total_score'][data['Borough'] == 'Manhattan'],\n",
    "             data['total_score'][data['Borough'] == 'Queens'])"
   ]
  },
  {
   "cell_type": "markdown",
   "metadata": {},
   "source": [
    "Levene’s test for homogeneity of variance is not significant which indicates that the groups have approximately equal variances."
   ]
  },
  {
   "cell_type": "markdown",
   "metadata": {},
   "source": [
    "# 2. Normality\n",
    "\n",
    "The assumption of normality is tested on the residuals as a whole which is how the diagnostic information provided by statsmodels tests the residuals."
   ]
  },
  {
   "cell_type": "code",
   "execution_count": 340,
   "metadata": {},
   "outputs": [
    {
     "data": {
      "text/plain": [
       "(0.9864307045936584, 0.003728637006133795)"
      ]
     },
     "execution_count": 340,
     "metadata": {},
     "output_type": "execute_result"
    }
   ],
   "source": [
    "stats.shapiro(results.resid)"
   ]
  },
  {
   "cell_type": "markdown",
   "metadata": {},
   "source": [
    "The results from the Shapiro-Wilk test is statistically significant which indicates that the residuals are not normally distributed."
   ]
  },
  {
   "cell_type": "markdown",
   "metadata": {},
   "source": [
    "# The Normality assumption was violated, so what next?\n",
    "\n",
    "It is important to note that ANOVA is not robust to violations to the assumption of independence.  This is to say, that even if you violate the assumptions of homogeneity or normality, you can conduct the test and basically trust the findings.  However, the results of the ANOVA are invalid if the independence assumption is violated.  In general, with violations of homogeneity the analysis is considered robust if you have approximately equal sized groups.  With violations of normality, continuing with the ANOVA is generally ok if you have a large sample size (30 or more) for each group (The ratio of largest group:smallest group should not be greater than 3)."
   ]
  },
  {
   "cell_type": "code",
   "execution_count": 341,
   "metadata": {},
   "outputs": [
    {
     "data": {
      "text/plain": [
       "Brooklyn     102\n",
       "Bronx         95\n",
       "Manhattan     69\n",
       "Queens        60\n",
       "Name: Borough, dtype: int64"
      ]
     },
     "execution_count": 341,
     "metadata": {},
     "output_type": "execute_result"
    }
   ],
   "source": [
    "data['Borough'].value_counts()"
   ]
  },
  {
   "cell_type": "markdown",
   "metadata": {},
   "source": [
    "Looking at our groups above, they are approximately equal sized groups. This means that we can trust our test results"
   ]
  },
  {
   "cell_type": "code",
   "execution_count": null,
   "metadata": {},
   "outputs": [],
   "source": []
  }
 ],
 "metadata": {
  "kernelspec": {
   "display_name": "Python 3",
   "language": "python",
   "name": "python3"
  },
  "language_info": {
   "codemirror_mode": {
    "name": "ipython",
    "version": 3
   },
   "file_extension": ".py",
   "mimetype": "text/x-python",
   "name": "python",
   "nbconvert_exporter": "python",
   "pygments_lexer": "ipython3",
   "version": "3.7.4"
  }
 },
 "nbformat": 4,
 "nbformat_minor": 2
}
