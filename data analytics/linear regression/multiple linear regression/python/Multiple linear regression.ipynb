{
 "cells": [
  {
   "cell_type": "markdown",
   "metadata": {},
   "source": [
    "# Multiple linear regression\n",
    "\n",
    "We will use a car data set and our dependent variable is mpg (miles per gallon) vs our independent variables car weight and length"
   ]
  },
  {
   "cell_type": "code",
   "execution_count": 72,
   "metadata": {},
   "outputs": [],
   "source": [
    "#Load libraries\n",
    "import pandas as pd\n",
    "import numpy as np\n",
    "\n",
    "%matplotlib inline\n",
    "import matplotlib.pyplot as plt\n",
    "plt.style.use('seaborn-whitegrid')\n",
    "import seaborn as sns\n",
    "from sklearn.model_selection import train_test_split"
   ]
  },
  {
   "cell_type": "code",
   "execution_count": 73,
   "metadata": {},
   "outputs": [
    {
     "data": {
      "text/html": [
       "<div>\n",
       "<style scoped>\n",
       "    .dataframe tbody tr th:only-of-type {\n",
       "        vertical-align: middle;\n",
       "    }\n",
       "\n",
       "    .dataframe tbody tr th {\n",
       "        vertical-align: top;\n",
       "    }\n",
       "\n",
       "    .dataframe thead th {\n",
       "        text-align: right;\n",
       "    }\n",
       "</style>\n",
       "<table border=\"1\" class=\"dataframe\">\n",
       "  <thead>\n",
       "    <tr style=\"text-align: right;\">\n",
       "      <th></th>\n",
       "      <th>make</th>\n",
       "      <th>mpg</th>\n",
       "      <th>weight</th>\n",
       "      <th>weight1</th>\n",
       "      <th>price</th>\n",
       "      <th>foreign</th>\n",
       "      <th>repairs</th>\n",
       "      <th>length</th>\n",
       "    </tr>\n",
       "  </thead>\n",
       "  <tbody>\n",
       "    <tr>\n",
       "      <th>0</th>\n",
       "      <td>AMC</td>\n",
       "      <td>22</td>\n",
       "      <td>2930</td>\n",
       "      <td>2.93</td>\n",
       "      <td>4099</td>\n",
       "      <td>0</td>\n",
       "      <td>3</td>\n",
       "      <td>186</td>\n",
       "    </tr>\n",
       "    <tr>\n",
       "      <th>1</th>\n",
       "      <td>AMC</td>\n",
       "      <td>17</td>\n",
       "      <td>3350</td>\n",
       "      <td>3.35</td>\n",
       "      <td>4749</td>\n",
       "      <td>0</td>\n",
       "      <td>3</td>\n",
       "      <td>173</td>\n",
       "    </tr>\n",
       "    <tr>\n",
       "      <th>2</th>\n",
       "      <td>AMC</td>\n",
       "      <td>22</td>\n",
       "      <td>2640</td>\n",
       "      <td>2.64</td>\n",
       "      <td>3799</td>\n",
       "      <td>0</td>\n",
       "      <td>3</td>\n",
       "      <td>168</td>\n",
       "    </tr>\n",
       "    <tr>\n",
       "      <th>3</th>\n",
       "      <td>Audi</td>\n",
       "      <td>17</td>\n",
       "      <td>2830</td>\n",
       "      <td>2.83</td>\n",
       "      <td>9690</td>\n",
       "      <td>1</td>\n",
       "      <td>5</td>\n",
       "      <td>189</td>\n",
       "    </tr>\n",
       "    <tr>\n",
       "      <th>4</th>\n",
       "      <td>Audi</td>\n",
       "      <td>23</td>\n",
       "      <td>2070</td>\n",
       "      <td>2.07</td>\n",
       "      <td>6295</td>\n",
       "      <td>1</td>\n",
       "      <td>3</td>\n",
       "      <td>174</td>\n",
       "    </tr>\n",
       "  </tbody>\n",
       "</table>\n",
       "</div>"
      ],
      "text/plain": [
       "   make  mpg  weight  weight1  price  foreign  repairs  length\n",
       "0   AMC   22    2930     2.93   4099        0        3     186\n",
       "1   AMC   17    3350     3.35   4749        0        3     173\n",
       "2   AMC   22    2640     2.64   3799        0        3     168\n",
       "3  Audi   17    2830     2.83   9690        1        5     189\n",
       "4  Audi   23    2070     2.07   6295        1        3     174"
      ]
     },
     "execution_count": 73,
     "metadata": {},
     "output_type": "execute_result"
    }
   ],
   "source": [
    "#Load Data\n",
    "data = pd.read_csv(\"regression_auto.csv\")\n",
    "data.head()"
   ]
  },
  {
   "cell_type": "markdown",
   "metadata": {},
   "source": [
    "# Response and predictor data Summary"
   ]
  },
  {
   "cell_type": "code",
   "execution_count": 74,
   "metadata": {},
   "outputs": [
    {
     "data": {
      "text/html": [
       "<div>\n",
       "<style scoped>\n",
       "    .dataframe tbody tr th:only-of-type {\n",
       "        vertical-align: middle;\n",
       "    }\n",
       "\n",
       "    .dataframe tbody tr th {\n",
       "        vertical-align: top;\n",
       "    }\n",
       "\n",
       "    .dataframe thead th {\n",
       "        text-align: right;\n",
       "    }\n",
       "</style>\n",
       "<table border=\"1\" class=\"dataframe\">\n",
       "  <thead>\n",
       "    <tr style=\"text-align: right;\">\n",
       "      <th></th>\n",
       "      <th>count</th>\n",
       "      <th>mean</th>\n",
       "      <th>std</th>\n",
       "      <th>min</th>\n",
       "      <th>25%</th>\n",
       "      <th>50%</th>\n",
       "      <th>75%</th>\n",
       "      <th>max</th>\n",
       "    </tr>\n",
       "  </thead>\n",
       "  <tbody>\n",
       "    <tr>\n",
       "      <th>mpg</th>\n",
       "      <td>26.0</td>\n",
       "      <td>20.923077</td>\n",
       "      <td>4.757504</td>\n",
       "      <td>14.00</td>\n",
       "      <td>17.2500</td>\n",
       "      <td>21.0</td>\n",
       "      <td>23.00</td>\n",
       "      <td>35.00</td>\n",
       "    </tr>\n",
       "    <tr>\n",
       "      <th>weight1</th>\n",
       "      <td>26.0</td>\n",
       "      <td>3.099231</td>\n",
       "      <td>0.695079</td>\n",
       "      <td>2.02</td>\n",
       "      <td>2.6425</td>\n",
       "      <td>3.2</td>\n",
       "      <td>3.61</td>\n",
       "      <td>4.33</td>\n",
       "    </tr>\n",
       "    <tr>\n",
       "      <th>length</th>\n",
       "      <td>26.0</td>\n",
       "      <td>190.076923</td>\n",
       "      <td>18.170136</td>\n",
       "      <td>163.00</td>\n",
       "      <td>173.2500</td>\n",
       "      <td>191.0</td>\n",
       "      <td>203.00</td>\n",
       "      <td>222.00</td>\n",
       "    </tr>\n",
       "  </tbody>\n",
       "</table>\n",
       "</div>"
      ],
      "text/plain": [
       "         count        mean        std     min       25%    50%     75%     max\n",
       "mpg       26.0   20.923077   4.757504   14.00   17.2500   21.0   23.00   35.00\n",
       "weight1   26.0    3.099231   0.695079    2.02    2.6425    3.2    3.61    4.33\n",
       "length    26.0  190.076923  18.170136  163.00  173.2500  191.0  203.00  222.00"
      ]
     },
     "execution_count": 74,
     "metadata": {},
     "output_type": "execute_result"
    }
   ],
   "source": [
    "data[['mpg','weight1','length']].describe().T"
   ]
  },
  {
   "cell_type": "markdown",
   "metadata": {},
   "source": [
    "# Question\n",
    "Can the weight, its price and whether it’s foreign or not statistically significantly predict a car's miles per gallon?\n",
    "\n",
    "# Hypothesis\n",
    "H0: Car weight, its price and whether it’s foreign or not can not  statistically significantly predict a car's miles per gallon\n",
    "Ha: Car weight, its price and whether it’s foreign or not can statistically significantly predict a car's miles per gallon\n",
    "\n",
    "The level of significance\n",
    "alpha = 0.05\n",
    "\n",
    "# ASSUMPTIONS\n",
    "Determine if data meets requirements to perform a linear regression.\n",
    "\n",
    "Assumption #1: Your response variable should be measured on a continuous scale.     \n",
    "Assumption #2: You have two or more independent variables, which should be measured at the continuous or categorical level.    \n",
    "Assumption #3: You should have independence of observations (i.e., independence of residuals), which you can check in Stata using the Durbin-Watson statistic.     \n",
    "Assumption #4: There needs to be a linear relationship between (a) the dependent variable and each of your independent variables, and (b) the dependent variable and the independent variables collectively.         \n",
    "Assumption #5: Your data needs to show homoscedasticity, which is where the variances along the line of best fit remain similar as you move along the line.       \n",
    "Assumption #6: Your data must not show multicollinearity, which occurs when you have two or more independent variables that are highly correlated with each other.       \n",
    "Assumption #7: There should be no significant outliers, high leverage points or highly influential points, which represent observations in your data set that are in some way unusual.      \n",
    "Assumption #8: The residuals (errors) should be approximately normally distributed."
   ]
  },
  {
   "cell_type": "markdown",
   "metadata": {},
   "source": [
    "# Check outliers"
   ]
  },
  {
   "cell_type": "code",
   "execution_count": 75,
   "metadata": {},
   "outputs": [],
   "source": [
    "def find_outliers(x):\n",
    "    '''\n",
    "    sample usage\n",
    "    data_indices, data_values = find_outliers(x['age'])\n",
    "    print(np.sort(data_values))\n",
    "    '''\n",
    "    q1 = np.percentile(x, 25)\n",
    "    q3 = np.percentile(x, 75)\n",
    "    iqr = q3 - q1\n",
    "    floor = q1 - 1.5*iqr\n",
    "    ceiling = q3 + 1.5*iqr\n",
    "    outlier_indices = list(x.index[(x < floor) | (x > ceiling)])\n",
    "    outlier_values = list(x[outlier_indices])\n",
    "\n",
    "    return outlier_indices, outlier_values"
   ]
  },
  {
   "cell_type": "code",
   "execution_count": 76,
   "metadata": {},
   "outputs": [
    {
     "data": {
      "text/plain": [
       "([23], [35])"
      ]
     },
     "execution_count": 76,
     "metadata": {},
     "output_type": "execute_result"
    }
   ],
   "source": [
    "# Check outliers for mpg\n",
    "find_outliers(data['mpg'])"
   ]
  },
  {
   "cell_type": "code",
   "execution_count": 77,
   "metadata": {},
   "outputs": [
    {
     "name": "stdout",
     "output_type": "stream",
     "text": [
      "make       Datsun\n",
      "mpg            35\n",
      "weight       2020\n",
      "weight1      2.02\n",
      "price        4589\n",
      "foreign         1\n",
      "repairs         5\n",
      "length        165\n",
      "Name: 23, dtype: object\n"
     ]
    }
   ],
   "source": [
    "print(data.iloc[23])"
   ]
  },
  {
   "cell_type": "code",
   "execution_count": 78,
   "metadata": {},
   "outputs": [
    {
     "data": {
      "image/png": "[encoded data removed]",
      "text/plain": [
       "<Figure size 648x360 with 1 Axes>"
      ]
     },
     "metadata": {},
     "output_type": "display_data"
    }
   ],
   "source": [
    "plt.figure(figsize=(9, 5))\n",
    "sns.boxplot(data['mpg'], color='darkcyan', saturation=0.9)\n",
    "plt.title(\"Distribution of Scores\", y=1.015)\n",
    "plt.xlabel(\"Scores\", labelpad=14);"
   ]
  },
  {
   "cell_type": "markdown",
   "metadata": {},
   "source": [
    "Clearly we have an outlier value of 35 in mpg column"
   ]
  },
  {
   "cell_type": "code",
   "execution_count": 79,
   "metadata": {},
   "outputs": [
    {
     "data": {
      "text/plain": [
       "([], [])"
      ]
     },
     "execution_count": 79,
     "metadata": {},
     "output_type": "execute_result"
    }
   ],
   "source": [
    "# Check outliers for weight1\n",
    "find_outliers(data['weight1'])"
   ]
  },
  {
   "cell_type": "code",
   "execution_count": 80,
   "metadata": {},
   "outputs": [
    {
     "data": {
      "text/plain": [
       "([], [])"
      ]
     },
     "execution_count": 80,
     "metadata": {},
     "output_type": "execute_result"
    }
   ],
   "source": [
    "# Check outliers for length\n",
    "find_outliers(data['length'])"
   ]
  },
  {
   "cell_type": "code",
   "execution_count": 81,
   "metadata": {},
   "outputs": [],
   "source": [
    "#Let's drop the column with outliers\n",
    "#Dropping the outlier rows with Percentiles\n",
    "def drop_rows_with_outliers(df, column):\n",
    "    # 1st quartile (25%)\n",
    "    Q1 = np.percentile(df[column], 25)\n",
    "    # 3rd quartile (75%)\n",
    "    Q3 = np.percentile(df[column],75)\n",
    "    # Interquartile range (IQR)\n",
    "    IQR = Q3 - Q1\n",
    "\n",
    "    # outlier step\n",
    "    outlier_step = 1.5 * IQR\n",
    "\n",
    "    df = df[(df[column] < (Q3 + outlier_step)) & (df[column] > (Q1 - outlier_step))]\n",
    "    return df"
   ]
  },
  {
   "cell_type": "code",
   "execution_count": 82,
   "metadata": {},
   "outputs": [
    {
     "name": "stdout",
     "output_type": "stream",
     "text": [
      "(26, 8)\n",
      "(25, 8)\n"
     ]
    }
   ],
   "source": [
    "print(data.shape)\n",
    "data=drop_rows_with_outliers(data, 'mpg')\n",
    "print(data.shape)"
   ]
  },
  {
   "cell_type": "markdown",
   "metadata": {},
   "source": [
    "# Check linearity"
   ]
  },
  {
   "cell_type": "code",
   "execution_count": 83,
   "metadata": {},
   "outputs": [
    {
     "data": {
      "text/plain": [
       "Text(0.5, 1.0, 'Linear Relationship Exists between mpg and weight?')"
      ]
     },
     "execution_count": 83,
     "metadata": {},
     "output_type": "execute_result"
    },
    {
     "data": {
      "image/png": "[encoded data removed]",
      "text/plain": [
       "<Figure size 432x288 with 1 Axes>"
      ]
     },
     "metadata": {},
     "output_type": "display_data"
    }
   ],
   "source": [
    "plt.plot(data['weight1'], data['mpg'], 'o', color='black');\n",
    "plt.title(\"Linear Relationship Exists between mpg and weight?\")"
   ]
  },
  {
   "cell_type": "code",
   "execution_count": 84,
   "metadata": {},
   "outputs": [
    {
     "data": {
      "text/plain": [
       "Text(0.5, 1.0, 'Linear Relationship Exists between mpg and length?')"
      ]
     },
     "execution_count": 84,
     "metadata": {},
     "output_type": "execute_result"
    },
    {
     "data": {
      "image/png": "[encoded data removed]",
      "text/plain": [
       "<Figure size 432x288 with 1 Axes>"
      ]
     },
     "metadata": {},
     "output_type": "display_data"
    }
   ],
   "source": [
    "plt.plot(data['length'], data['mpg'], 'o', color='black');\n",
    "plt.title(\"Linear Relationship Exists between mpg and length?\")"
   ]
  },
  {
   "cell_type": "code",
   "execution_count": 85,
   "metadata": {},
   "outputs": [],
   "source": [
    "def calculate_residuals(model, features, label):\n",
    "    \"\"\"\n",
    "    Creates predictions on the features with the model and calculates residuals\n",
    "    \"\"\"\n",
    "    predictions = model.predict(features)\n",
    "    df_results = pd.DataFrame({'Actual': label, 'Predicted': predictions})\n",
    "    df_results['Residuals'] = abs(df_results['Actual']) - abs(df_results['Predicted'])\n",
    "    \n",
    "    return df_results\n",
    "\n",
    "\n",
    "def linear_assumption(model, features, label):\n",
    "    \"\"\"\n",
    "    Linearity: Assumes that there is a linear relationship between the predictors and\n",
    "               the response variable. If not, either a quadratic term or another\n",
    "               algorithm should be used.\n",
    "    \"\"\"\n",
    "    print('Linear Relationship between the Target and the Features', '\\n')\n",
    "        \n",
    "    print('Checking with a scatter plot of actual vs. predicted.',\n",
    "           'Predictions should follow the diagonal line.')\n",
    "    \n",
    "    # Calculating residuals for the plot\n",
    "    df_results = calculate_residuals(model, features, label)\n",
    "    \n",
    "    # Plotting the actual vs predicted values\n",
    "    sns.lmplot(x='Actual', y='Predicted', data=df_results, fit_reg=False, height=7)\n",
    "        \n",
    "    # Plotting the diagonal line\n",
    "    line_coords = np.arange(df_results.min().min(), df_results.max().max())\n",
    "    plt.plot(line_coords, line_coords,  # X and y points\n",
    "             color='darkorange', linestyle='--')\n",
    "    plt.title('Actual vs. Predicted')\n",
    "    plt.show()"
   ]
  },
  {
   "cell_type": "code",
   "execution_count": 86,
   "metadata": {},
   "outputs": [
    {
     "name": "stdout",
     "output_type": "stream",
     "text": [
      "Linear Relationship between the Target and the Features \n",
      "\n",
      "Checking with a scatter plot of actual vs. predicted. Predictions should follow the diagonal line.\n"
     ]
    },
    {
     "data": {
      "image/png": "[encoded data removed]",
      "text/plain": [
       "<Figure size 504x504 with 1 Axes>"
      ]
     },
     "metadata": {},
     "output_type": "display_data"
    }
   ],
   "source": [
    "from sklearn.linear_model import LinearRegression\n",
    "multi_linear_model = LinearRegression()\n",
    "\n",
    "linear_mX, linear_my = data[['weight1','length']].values, data.mpg.values\n",
    "Xm_train, Xm_test, Ym_train, Ym_test = train_test_split(linear_mX, linear_my, test_size=1, random_state=100)\n",
    "multi_linear_model.fit(Xm_train, Ym_train)\n",
    "linear_assumption(multi_linear_model, Xm_train, Ym_train)"
   ]
  },
  {
   "cell_type": "markdown",
   "metadata": {},
   "source": [
    "# Check Normality law"
   ]
  },
  {
   "cell_type": "code",
   "execution_count": 87,
   "metadata": {},
   "outputs": [],
   "source": [
    "def normal_errors_assumption(model, features, label, p_value_thresh=0.05):\n",
    "    \"\"\"\n",
    "    Normality: Assumes that the error terms are normally distributed. If they are not,\n",
    "    nonlinear transformations of variables may solve this.\n",
    "               \n",
    "    This assumption being violated primarily causes issues with the confidence intervals\n",
    "    \"\"\"\n",
    "    from statsmodels.stats.diagnostic import normal_ad\n",
    "    print('Are the error terms are normally distributed?', '\\n')\n",
    "    \n",
    "    # Calculating residuals for the Anderson-Darling test\n",
    "    df_results = calculate_residuals(model, features, label)\n",
    "    \n",
    "    print('Using the Anderson-Darling test for normal distribution')\n",
    "\n",
    "    # Performing the test on the residuals\n",
    "    p_value = normal_ad(df_results['Residuals'])[1]\n",
    "    print('p-value from the test - below 0.05 generally means non-normal:', p_value)\n",
    "    \n",
    "    # Reporting the normality of the residuals\n",
    "    if p_value < p_value_thresh:\n",
    "        print('Residuals are not normally distributed')\n",
    "    else:\n",
    "        print('Residuals are normally distributed')\n",
    "    \n",
    "    # Plotting the residuals distribution\n",
    "    plt.subplots(figsize=(12, 6))\n",
    "    plt.title('Distribution of Residuals')\n",
    "    sns.distplot(df_results['Residuals'])\n",
    "    plt.show()\n",
    "    \n",
    "    print()\n",
    "    if p_value > p_value_thresh:\n",
    "        print('Assumption satisfied')\n",
    "    else:\n",
    "        print('Assumption not satisfied')\n",
    "        print()\n",
    "        print('Confidence intervals will likely be affected')\n",
    "        print('Try performing nonlinear transformations on variables')"
   ]
  },
  {
   "cell_type": "code",
   "execution_count": 88,
   "metadata": {},
   "outputs": [
    {
     "name": "stdout",
     "output_type": "stream",
     "text": [
      "Are the error terms are normally distributed? \n",
      "\n",
      "Using the Anderson-Darling test for normal distribution\n",
      "p-value from the test - below 0.05 generally means non-normal: 0.6754669765712111\n",
      "Residuals are normally distributed\n"
     ]
    },
    {
     "data": {
      "image/png": "[encoded data removed]",
      "text/plain": [
       "<Figure size 864x432 with 1 Axes>"
      ]
     },
     "metadata": {},
     "output_type": "display_data"
    },
    {
     "name": "stdout",
     "output_type": "stream",
     "text": [
      "\n",
      "Assumption satisfied\n"
     ]
    }
   ],
   "source": [
    "normal_errors_assumption(multi_linear_model, Xm_train, Ym_train)"
   ]
  },
  {
   "cell_type": "markdown",
   "metadata": {},
   "source": [
    "# Multicollinearity"
   ]
  },
  {
   "cell_type": "code",
   "execution_count": 89,
   "metadata": {},
   "outputs": [],
   "source": [
    "def multicollinearity_assumption(model, features, label, feature_names=None):\n",
    "    \"\"\"\n",
    "    Multicollinearity: Assumes that predictors are not correlated with each other. If there is\n",
    "                       correlation among the predictors, then either remove prepdictors with high\n",
    "                       Variance Inflation Factor (VIF) values or perform dimensionality reduction\n",
    "                           \n",
    "                       This assumption being violated causes issues with interpretability of the \n",
    "                       coefficients and the standard errors of the coefficients.\n",
    "    \"\"\"\n",
    "    from statsmodels.stats.outliers_influence import variance_inflation_factor\n",
    "    print('Assumption 3: Little to no multicollinearity among predictors')\n",
    "        \n",
    "    # Plotting the heatmap\n",
    "    plt.figure(figsize = (10,8))\n",
    "    sns.heatmap(pd.DataFrame(features, columns=feature_names).corr(), annot=True)\n",
    "    plt.title('Correlation of Variables')\n",
    "    plt.show()\n",
    "        \n",
    "    print('Variance Inflation Factors (VIF)')\n",
    "    print('> 10: An indication that multicollinearity may be present')\n",
    "    print('> 100: Certain multicollinearity among the variables')\n",
    "    print('-------------------------------------')\n",
    "       \n",
    "    # Gathering the VIF for each variable\n",
    "    VIF = [variance_inflation_factor(features, i) for i in range(features.shape[1])]\n",
    "    for idx, vif in enumerate(VIF):\n",
    "        print('{0}: {1}'.format(feature_names[idx], vif))\n",
    "        \n",
    "    # Gathering and printing total cases of possible or definite multicollinearity\n",
    "    possible_multicollinearity = sum([1 for vif in VIF if vif > 10])\n",
    "    definite_multicollinearity = sum([1 for vif in VIF if vif > 100])\n",
    "    print()\n",
    "    print('{0} cases of possible multicollinearity'.format(possible_multicollinearity))\n",
    "    print('{0} cases of definite multicollinearity'.format(definite_multicollinearity))\n",
    "    print()\n",
    "\n",
    "    if definite_multicollinearity == 0:\n",
    "        if possible_multicollinearity == 0:\n",
    "            print('Assumption satisfied')\n",
    "        else:\n",
    "            print('Assumption possibly satisfied')\n",
    "            print()\n",
    "            print('Coefficient interpretability may be problematic')\n",
    "            print('Consider removing variables with a high Variance Inflation Factor (VIF)')\n",
    "\n",
    "    else:\n",
    "        print('Assumption not satisfied')\n",
    "        print()\n",
    "        print('Coefficient interpretability will be problematic')\n",
    "        print('Consider removing variables with a high Variance Inflation Factor (VIF)')\n"
   ]
  },
  {
   "cell_type": "code",
   "execution_count": 90,
   "metadata": {},
   "outputs": [
    {
     "name": "stdout",
     "output_type": "stream",
     "text": [
      "Assumption 3: Little to no multicollinearity among predictors\n"
     ]
    },
    {
     "data": {
      "image/png": "[encoded data removed]",
      "text/plain": [
       "<Figure size 720x576 with 2 Axes>"
      ]
     },
     "metadata": {},
     "output_type": "display_data"
    },
    {
     "name": "stdout",
     "output_type": "stream",
     "text": [
      "Variance Inflation Factors (VIF)\n",
      "> 10: An indication that multicollinearity may be present\n",
      "> 100: Certain multicollinearity among the variables\n",
      "-------------------------------------\n",
      "weight1: 62.336591849100984\n",
      "length: 62.336591849100984\n",
      "\n",
      "2 cases of possible multicollinearity\n",
      "0 cases of definite multicollinearity\n",
      "\n",
      "Assumption possibly satisfied\n",
      "\n",
      "Coefficient interpretability may be problematic\n",
      "Consider removing variables with a high Variance Inflation Factor (VIF)\n"
     ]
    }
   ],
   "source": [
    "linear_feature_names = ['weight1','length']\n",
    "multicollinearity_assumption(multi_linear_model, Xm_train, Ym_train, linear_feature_names)"
   ]
  },
  {
   "cell_type": "markdown",
   "metadata": {},
   "source": [
    "# No Autocorrelation of the Error Terms (Independence of observations)"
   ]
  },
  {
   "cell_type": "code",
   "execution_count": 95,
   "metadata": {},
   "outputs": [],
   "source": [
    "def autocorrelation_assumption(model, features, label):\n",
    "    \"\"\"\n",
    "    Autocorrelation: Assumes that there is no autocorrelation in the residuals. If there is\n",
    "                     autocorrelation, then there is a pattern that is not explained due to\n",
    "                     the current value being dependent on the previous value.\n",
    "                     This may be resolved by adding a lag variable of either the dependent\n",
    "                     variable or some of the predictors.\n",
    "    \"\"\"\n",
    "    from statsmodels.stats.stattools import durbin_watson\n",
    "    print('No Autocorrelation', '\\n')\n",
    "    \n",
    "    # Calculating residuals for the Durbin Watson-tests\n",
    "    df_results = calculate_residuals(model, features, label)\n",
    "\n",
    "    print('\\nPerforming Durbin-Watson Test')\n",
    "    print('-------------------------------------')\n",
    "    print('Values of 1.5 < d < 2.5 generally show that there is no autocorrelation in the data')\n",
    "    print('0 to 2< is positive autocorrelation')\n",
    "    print('>2 to 4 is negative autocorrelation')\n",
    "    print('-------------------------------------')\n",
    "    durbinWatson = durbin_watson(df_results['Residuals'])\n",
    "    print('Durbin-Watson:', durbinWatson)\n",
    "    if durbinWatson < 1.5:\n",
    "        print('Signs of positive autocorrelation', '\\n')\n",
    "        print('Assumption not satisfied')\n",
    "    elif durbinWatson > 2.5:\n",
    "        print('Signs of negative autocorrelation', '\\n')\n",
    "        print('Assumption not satisfied')\n",
    "    else:\n",
    "        print('Little to no autocorrelation', '\\n')\n",
    "        print('Assumption satisfied')\n"
   ]
  },
  {
   "cell_type": "code",
   "execution_count": 96,
   "metadata": {},
   "outputs": [
    {
     "name": "stdout",
     "output_type": "stream",
     "text": [
      "No Autocorrelation \n",
      "\n",
      "\n",
      "Performing Durbin-Watson Test\n",
      "-------------------------------------\n",
      "Values of 1.5 < d < 2.5 generally show that there is no autocorrelation in the data\n",
      "0 to 2< is positive autocorrelation\n",
      ">2 to 4 is negative autocorrelation\n",
      "-------------------------------------\n",
      "Durbin-Watson: 1.8680935372817629\n",
      "Little to no autocorrelation \n",
      "\n",
      "Assumption satisfied\n"
     ]
    }
   ],
   "source": [
    "autocorrelation_assumption(multi_linear_model, Xm_train, Ym_train)"
   ]
  },
  {
   "cell_type": "markdown",
   "metadata": {},
   "source": [
    "# Homoscedasticity"
   ]
  },
  {
   "cell_type": "code",
   "execution_count": 93,
   "metadata": {},
   "outputs": [],
   "source": [
    "def homoscedasticity_assumption(model, features, label):\n",
    "    \"\"\"\n",
    "    Homoscedasticity: Assumes that the errors exhibit constant variance\n",
    "    \"\"\"\n",
    "    print('Assumption 5: Homoscedasticity of Error Terms', '\\n')\n",
    "    \n",
    "    print('Residuals should have relative constant variance')\n",
    "        \n",
    "    # Calculating residuals for the plot\n",
    "    df_results = calculate_residuals(model, features, label)\n",
    "\n",
    "    # Plotting the residuals\n",
    "    plt.subplots(figsize=(12, 6))\n",
    "    ax = plt.subplot(111)  # To remove spines\n",
    "    plt.scatter(x=df_results.index, y=df_results.Residuals, alpha=0.5)\n",
    "    plt.plot(np.repeat(0, df_results.index.max()), color='darkorange', linestyle='--')\n",
    "    ax.spines['right'].set_visible(False)  # Removing the right spine\n",
    "    ax.spines['top'].set_visible(False)  # Removing the top spine\n",
    "    plt.title('Residuals')\n",
    "    plt.show()  "
   ]
  },
  {
   "cell_type": "code",
   "execution_count": 94,
   "metadata": {},
   "outputs": [
    {
     "name": "stdout",
     "output_type": "stream",
     "text": [
      "Assumption 5: Homoscedasticity of Error Terms \n",
      "\n",
      "Residuals should have relative constant variance\n"
     ]
    },
    {
     "data": {
      "image/png": "[encoded data removed]",
      "text/plain": [
       "<Figure size 864x432 with 1 Axes>"
      ]
     },
     "metadata": {},
     "output_type": "display_data"
    }
   ],
   "source": [
    "homoscedasticity_assumption(multi_linear_model, Xm_train, Ym_train)"
   ]
  },
  {
   "cell_type": "markdown",
   "metadata": {},
   "source": [
    "# Multiple linear regression"
   ]
  },
  {
   "cell_type": "code",
   "execution_count": 100,
   "metadata": {},
   "outputs": [
    {
     "data": {
      "text/html": [
       "<table class=\"simpletable\">\n",
       "<caption>OLS Regression Results</caption>\n",
       "<tr>\n",
       "  <th>Dep. Variable:</th>           <td>mpg</td>       <th>  R-squared:         </th> <td>   0.678</td>\n",
       "</tr>\n",
       "<tr>\n",
       "  <th>Model:</th>                   <td>OLS</td>       <th>  Adj. R-squared:    </th> <td>   0.649</td>\n",
       "</tr>\n",
       "<tr>\n",
       "  <th>Method:</th>             <td>Least Squares</td>  <th>  F-statistic:       </th> <td>   23.17</td>\n",
       "</tr>\n",
       "<tr>\n",
       "  <th>Date:</th>             <td>Wed, 25 Mar 2020</td> <th>  Prob (F-statistic):</th> <td>3.85e-06</td>\n",
       "</tr>\n",
       "<tr>\n",
       "  <th>Time:</th>                 <td>22:06:48</td>     <th>  Log-Likelihood:    </th> <td> -54.638</td>\n",
       "</tr>\n",
       "<tr>\n",
       "  <th>No. Observations:</th>      <td>    25</td>      <th>  AIC:               </th> <td>   115.3</td>\n",
       "</tr>\n",
       "<tr>\n",
       "  <th>Df Residuals:</th>          <td>    22</td>      <th>  BIC:               </th> <td>   118.9</td>\n",
       "</tr>\n",
       "<tr>\n",
       "  <th>Df Model:</th>              <td>     2</td>      <th>                     </th>     <td> </td>   \n",
       "</tr>\n",
       "<tr>\n",
       "  <th>Covariance Type:</th>      <td>nonrobust</td>    <th>                     </th>     <td> </td>   \n",
       "</tr>\n",
       "</table>\n",
       "<table class=\"simpletable\">\n",
       "<tr>\n",
       "      <td></td>         <th>coef</th>     <th>std err</th>      <th>t</th>      <th>P>|t|</th>  <th>[0.025</th>    <th>0.975]</th>  \n",
       "</tr>\n",
       "<tr>\n",
       "  <th>Intercept</th> <td>   41.5435</td> <td>    7.317</td> <td>    5.678</td> <td> 0.000</td> <td>   26.369</td> <td>   56.719</td>\n",
       "</tr>\n",
       "<tr>\n",
       "  <th>weight1</th>   <td>   -3.3823</td> <td>    1.582</td> <td>   -2.138</td> <td> 0.044</td> <td>   -6.664</td> <td>   -0.101</td>\n",
       "</tr>\n",
       "<tr>\n",
       "  <th>length</th>    <td>   -0.0552</td> <td>    0.060</td> <td>   -0.923</td> <td> 0.366</td> <td>   -0.179</td> <td>    0.069</td>\n",
       "</tr>\n",
       "</table>\n",
       "<table class=\"simpletable\">\n",
       "<tr>\n",
       "  <th>Omnibus:</th>       <td> 0.791</td> <th>  Durbin-Watson:     </th> <td>   1.617</td>\n",
       "</tr>\n",
       "<tr>\n",
       "  <th>Prob(Omnibus):</th> <td> 0.673</td> <th>  Jarque-Bera (JB):  </th> <td>   0.157</td>\n",
       "</tr>\n",
       "<tr>\n",
       "  <th>Skew:</th>          <td> 0.168</td> <th>  Prob(JB):          </th> <td>   0.924</td>\n",
       "</tr>\n",
       "<tr>\n",
       "  <th>Kurtosis:</th>      <td> 3.196</td> <th>  Cond. No.          </th> <td>3.10e+03</td>\n",
       "</tr>\n",
       "</table><br/><br/>Warnings:<br/>[1] Standard Errors assume that the covariance matrix of the errors is correctly specified.<br/>[2] The condition number is large, 3.1e+03. This might indicate that there are<br/>strong multicollinearity or other numerical problems."
      ],
      "text/plain": [
       "<class 'statsmodels.iolib.summary.Summary'>\n",
       "\"\"\"\n",
       "                            OLS Regression Results                            \n",
       "==============================================================================\n",
       "Dep. Variable:                    mpg   R-squared:                       0.678\n",
       "Model:                            OLS   Adj. R-squared:                  0.649\n",
       "Method:                 Least Squares   F-statistic:                     23.17\n",
       "Date:                Wed, 25 Mar 2020   Prob (F-statistic):           3.85e-06\n",
       "Time:                        22:06:48   Log-Likelihood:                -54.638\n",
       "No. Observations:                  25   AIC:                             115.3\n",
       "Df Residuals:                      22   BIC:                             118.9\n",
       "Df Model:                           2                                         \n",
       "Covariance Type:            nonrobust                                         \n",
       "==============================================================================\n",
       "                 coef    std err          t      P>|t|      [0.025      0.975]\n",
       "------------------------------------------------------------------------------\n",
       "Intercept     41.5435      7.317      5.678      0.000      26.369      56.719\n",
       "weight1       -3.3823      1.582     -2.138      0.044      -6.664      -0.101\n",
       "length        -0.0552      0.060     -0.923      0.366      -0.179       0.069\n",
       "==============================================================================\n",
       "Omnibus:                        0.791   Durbin-Watson:                   1.617\n",
       "Prob(Omnibus):                  0.673   Jarque-Bera (JB):                0.157\n",
       "Skew:                           0.168   Prob(JB):                        0.924\n",
       "Kurtosis:                       3.196   Cond. No.                     3.10e+03\n",
       "==============================================================================\n",
       "\n",
       "Warnings:\n",
       "[1] Standard Errors assume that the covariance matrix of the errors is correctly specified.\n",
       "[2] The condition number is large, 3.1e+03. This might indicate that there are\n",
       "strong multicollinearity or other numerical problems.\n",
       "\"\"\""
      ]
     },
     "execution_count": 100,
     "metadata": {},
     "output_type": "execute_result"
    }
   ],
   "source": [
    "import statsmodels.formula.api as smf\n",
    "model = smf.ols(\"mpg ~ weight1 + length\", data= data).fit()\n",
    "model.summary()"
   ]
  },
  {
   "cell_type": "markdown",
   "metadata": {},
   "source": [
    "A multiple regression was run to predict mpg (miles covered by the car per gallon) from car weight, its price and whether it’s foreign or not. These variables statistically significantly predicted mpg (miles covered by the car per gallon) , F(2, 22) = 23.17, p < .0005, R2 = .678. But we can see that car weight is the only significant predictor. The regression equation was: predicted miles covered by the car per gallon = 41.544 - 3.382*(weight of the car)-0.055*(Car Length)"
   ]
  },
  {
   "cell_type": "code",
   "execution_count": null,
   "metadata": {},
   "outputs": [],
   "source": []
  }
 ],
 "metadata": {
  "kernelspec": {
   "display_name": "Python 3",
   "language": "python",
   "name": "python3"
  },
  "language_info": {
   "codemirror_mode": {
    "name": "ipython",
    "version": 3
   },
   "file_extension": ".py",
   "mimetype": "text/x-python",
   "name": "python",
   "nbconvert_exporter": "python",
   "pygments_lexer": "ipython3",
   "version": "3.7.4"
  }
 },
 "nbformat": 4,
 "nbformat_minor": 2
}
