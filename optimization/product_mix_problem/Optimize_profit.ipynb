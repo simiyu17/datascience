{
 "cells": [
  {
   "cell_type": "markdown",
   "metadata": {},
   "source": [
    "# Profit Maximization Problem"
   ]
  },
  {
   "cell_type": "markdown",
   "metadata": {},
   "source": [
    "Product P consists of two subassemblies. To manufacture the first subassembly, one unit of RM1 passes through machine A for 15 minutes. The output of machine A is moved to machine C where it is processed for 10 minutes. The second subassembly starts with RM2 processed in machine B for 15 minutes. The output is taken to machine C for 5 minutes of processing. The two subassemblies are joined with a purchased part in machine D. The result is a finished unit of P. Product Q is manufactured by a similar process.\n",
    "\n",
    "One machine of each type is available. Each machine operates for 2400 minutes per week. For this case the operating expenses, not including the raw material cost is $6000.\n",
    "\n",
    "# Our problems include the following: \n",
    "Find the product mix that maximizes profit and Identify the bottlenecks.\n",
    "\n",
    "\n",
    "The objective is to maximize profit. The profit per unit of product is its unit revenue less the raw material cost per unit. \n",
    "For P the unit profit is 45 and for Q  it is 60. The objective is a linear expression of the amounts produced."
   ]
  },
  {
   "cell_type": "markdown",
   "metadata": {},
   "source": [
    "# Definition\n",
    "P = Amount of products P to be produced in a week and\n",
    "Q = Amount of products Q to be produced in a week, so total profit Z = 45P+60Q.\n",
    "\n",
    "The constraints specify that the amounts of time required of each machine must not exceed the amount available. The amount of time required of a machine is a linear function of the production amounts.\n",
    "\n",
    "Machine Time Constraints\n",
    "\n",
    "Machine A: 15P+10Q =< 2400    \n",
    "Machine B: 15P+30Q =< 2400    \n",
    "Machine C: 15P+5Q =< 2400     \n",
    "Machine D: 10P+5Q =< 2400      \n",
    "\n",
    "Finally, we require that the amounts manufactured not exceed the demand determined by the markets for the products. We include the nonnegativity requirement with the market constraints.   \n",
    "\n",
    "Market Constraints     \n",
    "0=<P=<100     \n",
    "0=<Q=<50"
   ]
  },
  {
   "cell_type": "code",
   "execution_count": 8,
   "metadata": {},
   "outputs": [],
   "source": [
    "# Import PuLP modeler functions\n",
    "from pulp import *"
   ]
  },
  {
   "cell_type": "markdown",
   "metadata": {},
   "source": [
    "Define the proble"
   ]
  },
  {
   "cell_type": "code",
   "execution_count": 9,
   "metadata": {},
   "outputs": [],
   "source": [
    "prob = LpProblem(\"Profit Maximization Problem\",LpMaximize)"
   ]
  },
  {
   "cell_type": "code",
   "execution_count": 10,
   "metadata": {},
   "outputs": [],
   "source": [
    "# Define our variables\n",
    "\n",
    "#0=<P=<100\n",
    "P = LpVariable('P', 0, 100, cat='Integer')\n",
    "\n",
    "#0=<Q=<50\n",
    "Q = LpVariable('Q', 0, 50, cat='Integer')"
   ]
  },
  {
   "cell_type": "code",
   "execution_count": 11,
   "metadata": {},
   "outputs": [],
   "source": [
    "# Objective function\n",
    "prob += 45 * P + 60 * Q, \"Profit\""
   ]
  },
  {
   "cell_type": "code",
   "execution_count": 13,
   "metadata": {},
   "outputs": [],
   "source": [
    "# Constraints\n",
    "\n",
    "prob += 15 * P + 10 * Q <= 2400 #machine A\n",
    "prob += 15 * P + 30 * Q <= 2400 #machine B\n",
    "prob += 15 * P + 5 * Q <= 2400 #machine C\n",
    "prob += 10 * P + 5 * Q <= 2400 #machine D"
   ]
  },
  {
   "cell_type": "code",
   "execution_count": 15,
   "metadata": {},
   "outputs": [
    {
     "data": {
      "text/plain": [
       "'Optimal'"
      ]
     },
     "execution_count": 15,
     "metadata": {},
     "output_type": "execute_result"
    }
   ],
   "source": [
    "# Solve our problem\n",
    "prob.solve()\n",
    "pulp.LpStatus[prob.status]"
   ]
  },
  {
   "cell_type": "code",
   "execution_count": 16,
   "metadata": {},
   "outputs": [
    {
     "name": "stdout",
     "output_type": "stream",
     "text": [
      "Optimal Production of Product P = 100.0\n",
      "Optimal Production of Product Q = 30.0\n"
     ]
    }
   ],
   "source": [
    "# Print our decision variable values\n",
    "print ('Optimal Production of Product P = {}'.format(P.varValue))\n",
    "print ('Optimal Production of Product Q = {}'.format(Q.varValue))"
   ]
  },
  {
   "cell_type": "markdown",
   "metadata": {},
   "source": [
    "# Optimal Profit"
   ]
  },
  {
   "cell_type": "code",
   "execution_count": 20,
   "metadata": {},
   "outputs": [
    {
     "name": "stdout",
     "output_type": "stream",
     "text": [
      "Optimal Revenue is 6300.0\n",
      "Optimal Profit is Revenue less operating expenses $6000 which give $300.0\n"
     ]
    }
   ],
   "source": [
    "print('Optimal Revenue is {}'.format(45*P.varValue+60*Q.varValue))\n",
    "print('Optimal Profit is Revenue less operating expenses $6000 which give ${}'.format((45*P.varValue+60*Q.varValue)-6000))"
   ]
  },
  {
   "cell_type": "markdown",
   "metadata": {},
   "source": [
    "# Find the bottlenecks"
   ]
  },
  {
   "cell_type": "code",
   "execution_count": 23,
   "metadata": {},
   "outputs": [
    {
     "name": "stdout",
     "output_type": "stream",
     "text": [
      "**********Lets Look at Machine constraints with the values we found*************\n",
      "Optimal Time For Machine A 1800.0/2400\n",
      "Optimal Time For Machine B 2400.0/2400\n",
      "Optimal Time For Machine C 1650.0/2400\n",
      "Optimal Time For Machine D 1150.0/2400\n",
      "**********Lets Look at Market constraints with the values we found****************\n",
      "Optimal Production of Product P = 100.0/100\n",
      "Optimal Production of Product Q = 30.0/50\n"
     ]
    }
   ],
   "source": [
    "print('**********Lets Look at Machine constraints with the values we found*************')\n",
    "print('Optimal Time For Machine A {}/2400'.format(15*P.varValue+10*Q.varValue))\n",
    "print('Optimal Time For Machine B {}/2400'.format(15*P.varValue+30*Q.varValue))\n",
    "print('Optimal Time For Machine C {}/2400'.format(15*P.varValue+5*Q.varValue))\n",
    "print('Optimal Time For Machine D {}/2400'.format(10*P.varValue+5*Q.varValue))\n",
    "print('**********Lets Look at Market constraints with the values we found****************')\n",
    "print ('Optimal Production of Product P = {}/100'.format(P.varValue))\n",
    "print ('Optimal Production of Product Q = {}/50'.format(Q.varValue))"
   ]
  },
  {
   "cell_type": "markdown",
   "metadata": {},
   "source": [
    " Clearly, the time on machine B is a bottleneck for this situation. The market for P is also a bottleneck because the optimum value is at its upper bound. If either the time on machine B or the market for product P are increased, the profit will increase."
   ]
  },
  {
   "cell_type": "code",
   "execution_count": null,
   "metadata": {},
   "outputs": [],
   "source": []
  }
 ],
 "metadata": {
  "kernelspec": {
   "display_name": "Python 3",
   "language": "python",
   "name": "python3"
  },
  "language_info": {
   "codemirror_mode": {
    "name": "ipython",
    "version": 3
   },
   "file_extension": ".py",
   "mimetype": "text/x-python",
   "name": "python",
   "nbconvert_exporter": "python",
   "pygments_lexer": "ipython3",
   "version": "3.7.4"
  }
 },
 "nbformat": 4,
 "nbformat_minor": 2
}
