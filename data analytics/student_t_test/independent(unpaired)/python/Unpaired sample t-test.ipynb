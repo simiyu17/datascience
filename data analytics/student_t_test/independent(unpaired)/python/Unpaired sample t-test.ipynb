{
 "cells": [
  {
   "cell_type": "markdown",
   "metadata": {},
   "source": [
    "# Unpaired Sample T-test Notebook"
   ]
  },
  {
   "cell_type": "markdown",
   "metadata": {},
   "source": [
    "Load libraries"
   ]
  },
  {
   "cell_type": "code",
   "execution_count": 46,
   "metadata": {},
   "outputs": [],
   "source": [
    "import numpy as np # linear algebra\n",
    "import pandas as pd # data processing, CSV file I/O (e.g. pd.read_csv)\n",
    "\n",
    "from numpy import mean\n",
    "from scipy.stats import sem\n",
    "from scipy.stats import t\n",
    "import scipy.stats as stats\n",
    "import seaborn as sns\n",
    "import matplotlib.pyplot as plt\n",
    "from statsmodels.stats import weightstats as statsmodelsweightstats\n",
    "%matplotlib inline\n",
    "\n",
    "from collections import Counter"
   ]
  },
  {
   "cell_type": "markdown",
   "metadata": {},
   "source": [
    "Load data\n",
    "\n",
    "I will be using a sample dataset."
   ]
  },
  {
   "cell_type": "code",
   "execution_count": 47,
   "metadata": {},
   "outputs": [
    {
     "data": {
      "text/html": [
       "<div>\n",
       "<style scoped>\n",
       "    .dataframe tbody tr th:only-of-type {\n",
       "        vertical-align: middle;\n",
       "    }\n",
       "\n",
       "    .dataframe tbody tr th {\n",
       "        vertical-align: top;\n",
       "    }\n",
       "\n",
       "    .dataframe thead th {\n",
       "        text-align: right;\n",
       "    }\n",
       "</style>\n",
       "<table border=\"1\" class=\"dataframe\">\n",
       "  <thead>\n",
       "    <tr style=\"text-align: right;\">\n",
       "      <th></th>\n",
       "      <th>Wear_Amount</th>\n",
       "      <th>Sole_Material_Type</th>\n",
       "    </tr>\n",
       "  </thead>\n",
       "  <tbody>\n",
       "    <tr>\n",
       "      <th>0</th>\n",
       "      <td>13.2</td>\n",
       "      <td>A</td>\n",
       "    </tr>\n",
       "    <tr>\n",
       "      <th>1</th>\n",
       "      <td>8.2</td>\n",
       "      <td>A</td>\n",
       "    </tr>\n",
       "    <tr>\n",
       "      <th>2</th>\n",
       "      <td>10.9</td>\n",
       "      <td>A</td>\n",
       "    </tr>\n",
       "    <tr>\n",
       "      <th>3</th>\n",
       "      <td>14.3</td>\n",
       "      <td>A</td>\n",
       "    </tr>\n",
       "    <tr>\n",
       "      <th>4</th>\n",
       "      <td>10.7</td>\n",
       "      <td>A</td>\n",
       "    </tr>\n",
       "  </tbody>\n",
       "</table>\n",
       "</div>"
      ],
      "text/plain": [
       "   Wear_Amount Sole_Material_Type\n",
       "0         13.2                  A\n",
       "1          8.2                  A\n",
       "2         10.9                  A\n",
       "3         14.3                  A\n",
       "4         10.7                  A"
      ]
     },
     "execution_count": 47,
     "metadata": {},
     "output_type": "execute_result"
    }
   ],
   "source": [
    "data = pd.read_excel(\"student_t_test/data/t-test2.xls\", sheet_name =\"Independent-sample t-test\")\n",
    "data.head()"
   ]
  },
  {
   "cell_type": "markdown",
   "metadata": {},
   "source": [
    "# Important Variables\n",
    "So, we have 1 categorical (factor) variable which is Sole_Material_Type. And we have 1 quantitative variable which is Wear_Amount.\n",
    "\n",
    "# Question\n",
    "Is there a statistically significant difference between A and B on their Wear_Amount?\n",
    "\n",
    "# hypothesis \n",
    "H0: There's no difference in Wear_Amount between A and B  \n",
    "Ha: There's a statistically significant difference in Wear_Amount between A and B"
   ]
  },
  {
   "cell_type": "markdown",
   "metadata": {},
   "source": [
    "# Set alpha\n",
    "Probability of making type 1 error"
   ]
  },
  {
   "cell_type": "code",
   "execution_count": 48,
   "metadata": {},
   "outputs": [],
   "source": [
    "# The alpha level will be 0.05.\n",
    "alpha = 0.05"
   ]
  },
  {
   "cell_type": "markdown",
   "metadata": {},
   "source": [
    "# Assumptions\n",
    "Determine if data meets requirements to perform an independent samples t-test.\n",
    "\n",
    "\n",
    "Assumption #1: Your dependent variable should be measured on a continuous scale.   \n",
    "Assumption #2: Your independent variable should consist of two categorical, independent groups.   \n",
    "Assumption #3: You should have independence of observations.    \n",
    "Assumption #4: There should be no significant outliers.    \n",
    "Assumption #5: Your dependent variable should be approximately normally distributed for each group of the independent variables.    \n",
    "Assumption #6: There needs to be homogeneity of variances."
   ]
  },
  {
   "cell_type": "markdown",
   "metadata": {},
   "source": [
    "# Check missing values"
   ]
  },
  {
   "cell_type": "code",
   "execution_count": 49,
   "metadata": {},
   "outputs": [
    {
     "data": {
      "text/html": [
       "<div>\n",
       "<style scoped>\n",
       "    .dataframe tbody tr th:only-of-type {\n",
       "        vertical-align: middle;\n",
       "    }\n",
       "\n",
       "    .dataframe tbody tr th {\n",
       "        vertical-align: top;\n",
       "    }\n",
       "\n",
       "    .dataframe thead th {\n",
       "        text-align: right;\n",
       "    }\n",
       "</style>\n",
       "<table border=\"1\" class=\"dataframe\">\n",
       "  <thead>\n",
       "    <tr style=\"text-align: right;\">\n",
       "      <th></th>\n",
       "      <th>Total Missing</th>\n",
       "      <th>%</th>\n",
       "    </tr>\n",
       "  </thead>\n",
       "  <tbody>\n",
       "  </tbody>\n",
       "</table>\n",
       "</div>"
      ],
      "text/plain": [
       "Empty DataFrame\n",
       "Columns: [Total Missing, %]\n",
       "Index: []"
      ]
     },
     "execution_count": 49,
     "metadata": {},
     "output_type": "execute_result"
    }
   ],
   "source": [
    "#Lets Look At Missing Data\n",
    "total = data.isnull().sum().sort_values(ascending=False)\n",
    "percent_1 = data.isnull().sum()/data.isnull().count()*100\n",
    "percent_2 = (round(percent_1, 1)).sort_values(ascending=False)\n",
    "missing_data = pd.concat([total, percent_2], axis=1, keys=['Total Missing', '%'])\n",
    "missing_data.loc[missing_data['Total Missing'] > 0].head(33)"
   ]
  },
  {
   "cell_type": "markdown",
   "metadata": {},
   "source": [
    "Okay, we don't have missing values"
   ]
  },
  {
   "cell_type": "markdown",
   "metadata": {},
   "source": [
    "# Distribution of Scores in each Type"
   ]
  },
  {
   "cell_type": "code",
   "execution_count": 50,
   "metadata": {},
   "outputs": [],
   "source": [
    "a_data = data.loc[data['Sole_Material_Type'] == 'A']\n",
    "b_data = data.loc[data['Sole_Material_Type'] == 'B']"
   ]
  },
  {
   "cell_type": "markdown",
   "metadata": {},
   "source": [
    "# Type Summaries"
   ]
  },
  {
   "cell_type": "code",
   "execution_count": 51,
   "metadata": {},
   "outputs": [
    {
     "name": "stdout",
     "output_type": "stream",
     "text": [
      "************Type A Summary******************\n"
     ]
    },
    {
     "data": {
      "text/plain": [
       "count    10.000000\n",
       "mean     10.630000\n",
       "std       2.451326\n",
       "min       6.600000\n",
       "25%       8.975000\n",
       "50%      10.750000\n",
       "75%      12.625000\n",
       "max      14.300000\n",
       "Name: Wear_Amount, dtype: float64"
      ]
     },
     "execution_count": 51,
     "metadata": {},
     "output_type": "execute_result"
    }
   ],
   "source": [
    "print('************Type A Summary******************')\n",
    "a_data['Wear_Amount'].describe()"
   ]
  },
  {
   "cell_type": "code",
   "execution_count": 52,
   "metadata": {},
   "outputs": [
    {
     "name": "stdout",
     "output_type": "stream",
     "text": [
      "************Type B Summary******************\n"
     ]
    },
    {
     "data": {
      "text/plain": [
       "count    10.000000\n",
       "mean     11.040000\n",
       "std       2.518465\n",
       "min       6.400000\n",
       "25%       9.425000\n",
       "50%      11.250000\n",
       "75%      13.150000\n",
       "max      14.200000\n",
       "Name: Wear_Amount, dtype: float64"
      ]
     },
     "execution_count": 52,
     "metadata": {},
     "output_type": "execute_result"
    }
   ],
   "source": [
    "print('************Type B Summary******************')\n",
    "b_data['Wear_Amount'].describe()"
   ]
  },
  {
   "cell_type": "markdown",
   "metadata": {},
   "source": [
    "# Check and Remove significant outliers"
   ]
  },
  {
   "cell_type": "code",
   "execution_count": 53,
   "metadata": {},
   "outputs": [],
   "source": [
    "def detect_outliers(df, n, features):\n",
    "        \"\"\"\n",
    "        Takes a dataframe df of features and returns a list of the indices\n",
    "        corresponding to the observations containing more than n outliers according\n",
    "        to the Tukey method.\n",
    "        \"\"\"\n",
    "        outlier_indices = []\n",
    "\n",
    "        # iterate over features(columns)\n",
    "        for col in features:\n",
    "            # 1st quartile (25%)\n",
    "            Q1 = np.percentile(df[col], 25)\n",
    "            # 3rd quartile (75%)\n",
    "            Q3 = np.percentile(df[col],75)\n",
    "            # Interquartile range (IQR)\n",
    "            IQR = Q3 - Q1\n",
    "\n",
    "            # outlier step\n",
    "            outlier_step = 1.5 * IQR\n",
    "\n",
    "            # Determine a list of indices of outliers for feature col\n",
    "            outlier_list_col = df[(df[col] < Q1 - outlier_step) | (df[col] > Q3 + outlier_step )].index\n",
    "\n",
    "            # append the found outlier indices for col to the list of outlier indices\n",
    "            outlier_indices.extend(outlier_list_col)\n",
    "\n",
    "        # select observations containing more than 2 outliers\n",
    "        outlier_indices = Counter(outlier_indices)\n",
    "        multiple_outliers = list( k for k, v in outlier_indices.items() if v > n )\n",
    "\n",
    "        return multiple_outliers"
   ]
  },
  {
   "cell_type": "code",
   "execution_count": 54,
   "metadata": {},
   "outputs": [
    {
     "data": {
      "text/plain": [
       "[]"
      ]
     },
     "execution_count": 54,
     "metadata": {},
     "output_type": "execute_result"
    }
   ],
   "source": [
    "detect_outliers(data, 0, ['Wear_Amount'])"
   ]
  },
  {
   "cell_type": "markdown",
   "metadata": {},
   "source": [
    "Again we have significant outliers. Lets check that with boxplot"
   ]
  },
  {
   "cell_type": "code",
   "execution_count": 55,
   "metadata": {},
   "outputs": [
    {
     "data": {
      "image/png": "[encoded data removed]",
      "text/plain": [
       "<Figure size 648x360 with 1 Axes>"
      ]
     },
     "metadata": {
      "needs_background": "light"
     },
     "output_type": "display_data"
    }
   ],
   "source": [
    "plt.figure(figsize=(9, 5))\n",
    "sns.boxplot(data['Wear_Amount'], color='crimson', saturation=0.9)\n",
    "plt.title(\"Distribution Wear Amounts\", y=1.015)\n",
    "plt.xlabel(\"Wear Amounts\", labelpad=14);"
   ]
  },
  {
   "cell_type": "markdown",
   "metadata": {},
   "source": [
    "# Normality Law"
   ]
  },
  {
   "cell_type": "markdown",
   "metadata": {},
   "source": [
    "Visualize distribution to check normality"
   ]
  },
  {
   "cell_type": "code",
   "execution_count": 56,
   "metadata": {},
   "outputs": [
    {
     "data": {
      "image/png": "[encoded data removed]",
      "text/plain": [
       "<Figure size 720x504 with 1 Axes>"
      ]
     },
     "metadata": {
      "needs_background": "light"
     },
     "output_type": "display_data"
    }
   ],
   "source": [
    "plt.figure(figsize=(10, 7))\n",
    "sns.distplot(b_data['Wear_Amount'], color='crimson')\n",
    "plt.title(\"Distribution of Wear Amounts for B\", y=1.015, fontsize=22)\n",
    "plt.xlabel(\"B Wear Amounts\", labelpad=14)\n",
    "plt.ylabel(\"count of occurences\", labelpad=14);"
   ]
  },
  {
   "cell_type": "code",
   "execution_count": 57,
   "metadata": {},
   "outputs": [
    {
     "data": {
      "image/png": "[encoded data removed]",
      "text/plain": [
       "<Figure size 720x504 with 1 Axes>"
      ]
     },
     "metadata": {
      "needs_background": "light"
     },
     "output_type": "display_data"
    }
   ],
   "source": [
    "plt.figure(figsize=(10, 7))\n",
    "sns.distplot(a_data['Wear_Amount'], color='darkcyan')\n",
    "plt.title(\"Distribution of Wear Amounts for A\", y=1.015, fontsize=22)\n",
    "plt.xlabel(\"A Wear Amounts\", labelpad=14)\n",
    "plt.ylabel(\"count of occurences\", labelpad=14);"
   ]
  },
  {
   "cell_type": "code",
   "execution_count": 58,
   "metadata": {},
   "outputs": [
    {
     "data": {
      "text/plain": [
       "(0.9624006152153015, 0.8128618597984314)"
      ]
     },
     "execution_count": 58,
     "metadata": {},
     "output_type": "execute_result"
    }
   ],
   "source": [
    "# Shapiro-Wilk normality test for group A\n",
    "stats.shapiro(a_data.Wear_Amount.dropna())"
   ]
  },
  {
   "cell_type": "code",
   "execution_count": 59,
   "metadata": {},
   "outputs": [
    {
     "data": {
      "text/plain": [
       "(0.9481486678123474, 0.6466502547264099)"
      ]
     },
     "execution_count": 59,
     "metadata": {},
     "output_type": "execute_result"
    }
   ],
   "source": [
    "# Shapiro-Wilk normality test for group B\n",
    "stats.shapiro(b_data.Wear_Amount.dropna())"
   ]
  },
  {
   "cell_type": "markdown",
   "metadata": {},
   "source": [
    "Shapiro-Wilk test for normality of each group not significant which indicates that the groups have approximately a normal distibution.\n"
   ]
  },
  {
   "cell_type": "markdown",
   "metadata": {},
   "source": [
    "# homogeneity"
   ]
  },
  {
   "cell_type": "code",
   "execution_count": 60,
   "metadata": {
    "scrolled": true
   },
   "outputs": [
    {
     "data": {
      "text/plain": [
       "LeveneResult(statistic=0.01126580661642599, pvalue=0.9166448330605479)"
      ]
     },
     "execution_count": 60,
     "metadata": {},
     "output_type": "execute_result"
    }
   ],
   "source": [
    "stats.levene(data['Wear_Amount'][data['Sole_Material_Type'] == 'A'],\n",
    "             data['Wear_Amount'][data['Sole_Material_Type'] == 'B'])"
   ]
  },
  {
   "cell_type": "markdown",
   "metadata": {},
   "source": [
    "Levene’s test for homogeneity of variance is not significant which indicates that the groups have approximately equal variances."
   ]
  },
  {
   "cell_type": "markdown",
   "metadata": {},
   "source": [
    "Let's now compare the means using boxplot of both genders"
   ]
  },
  {
   "cell_type": "code",
   "execution_count": 61,
   "metadata": {},
   "outputs": [
    {
     "data": {
      "image/png": "[encoded data removed]",
      "text/plain": [
       "<Figure size 864x576 with 1 Axes>"
      ]
     },
     "metadata": {
      "needs_background": "light"
     },
     "output_type": "display_data"
    }
   ],
   "source": [
    "#Create a boxplot\n",
    "data.boxplot('Wear_Amount', by='Sole_Material_Type', figsize=(12, 8))\n",
    "\n",
    "ctrl = data['Wear_Amount'][data.Sole_Material_Type == 'ctrl']\n",
    "\n",
    "grps = pd.unique(data.Sole_Material_Type.values)\n",
    "d_data = {grp:data['Wear_Amount'][data.Sole_Material_Type == grp] for grp in grps}\n",
    "\n",
    "k = len(pd.unique(data.Sole_Material_Type))  # number of conditions\n",
    "N = len(data.values)  # conditions times participants\n",
    "n = data.groupby('Sole_Material_Type').size()[0] #Participants in each condition"
   ]
  },
  {
   "cell_type": "markdown",
   "metadata": {},
   "source": [
    "A only boxplot"
   ]
  },
  {
   "cell_type": "code",
   "execution_count": 62,
   "metadata": {},
   "outputs": [
    {
     "data": {
      "image/png": "[encoded data removed]",
      "text/plain": [
       "<Figure size 648x360 with 1 Axes>"
      ]
     },
     "metadata": {
      "needs_background": "light"
     },
     "output_type": "display_data"
    }
   ],
   "source": [
    "plt.figure(figsize=(9, 5))\n",
    "sns.boxplot(a_data['Wear_Amount'], color='darkcyan', saturation=0.9)\n",
    "plt.title(\"Distribution of A Wear Amounts\", y=1.015)\n",
    "plt.xlabel(\"Wear Amounts\", labelpad=14);"
   ]
  },
  {
   "cell_type": "markdown",
   "metadata": {},
   "source": [
    "B only boxplot"
   ]
  },
  {
   "cell_type": "code",
   "execution_count": 63,
   "metadata": {},
   "outputs": [
    {
     "data": {
      "image/png": "[encoded data removed]",
      "text/plain": [
       "<Figure size 648x360 with 1 Axes>"
      ]
     },
     "metadata": {
      "needs_background": "light"
     },
     "output_type": "display_data"
    }
   ],
   "source": [
    "plt.figure(figsize=(9, 5))\n",
    "sns.boxplot(b_data['Wear_Amount'], color='crimson', saturation=0.9)\n",
    "plt.title(\"Distribution of B Wear Amounts\", y=1.015)\n",
    "plt.xlabel(\"Wear Amounts\", labelpad=14);"
   ]
  },
  {
   "cell_type": "code",
   "execution_count": 64,
   "metadata": {},
   "outputs": [
    {
     "name": "stdout",
     "output_type": "stream",
     "text": [
      "T statistic : -0.36891055003610973\n",
      "P value : 0.7164979543716625\n"
     ]
    }
   ],
   "source": [
    "#Run independent t-test\n",
    "t,p = stats.ttest_ind(data['Wear_Amount'][data['Sole_Material_Type'] == 'A'], data['Wear_Amount'][data['Sole_Material_Type'] == 'B'])\n",
    "print('T statistic : {}'.format(t))\n",
    "print('P value : {}'.format(p))"
   ]
  },
  {
   "cell_type": "markdown",
   "metadata": {},
   "source": [
    "# Interpretation \n",
    "\n",
    "An unpaired sample t-test was used to analyze the wear amount of shoe sole type to test if the there was a significant difference. The wear amount of type B was higher (11.04 ± 2.52 units) compared to type A wear amount (10.63 ± 2.45 units), but this difference was NOT statistically significant (t(9)=-0.37, p= 0.0.716) of 0.41 units, so we fail to reject the null hypothesis.\n",
    "\n",
    "Is it tough to determine if this value of 0.41 is considered small or large?. The standard deviations are 2.45 and 2.52 so I think this difference in means of 0.41 at a glance seems relatively large. To combat this uncertainty of the calculation above, we can use the measure of Cohen's d\n",
    "\n",
    "# Cohen's d\n",
    "Cohen's d is a measure to determine the standardized mean difference in groups. The measure is the difference in group means in terms of standard deviation units."
   ]
  },
  {
   "cell_type": "code",
   "execution_count": 65,
   "metadata": {},
   "outputs": [],
   "source": [
    "a_mean = np.mean(a_data.Wear_Amount)\n",
    "b_mean = np.mean(b_data.Wear_Amount)\n",
    "a_standard_deviation = np.std(a_data.Wear_Amount)\n",
    "b_standard_deviation = np.std(b_data.Wear_Amount)"
   ]
  },
  {
   "cell_type": "code",
   "execution_count": 66,
   "metadata": {},
   "outputs": [],
   "source": [
    "def interpret_cohens_d(cohens_d):\n",
    "    \"\"\"\n",
    "    Determines text interpretation of effect size given Cohen's d value\n",
    "\n",
    "    :param cohens_d: float of Cohen's d value\n",
    "    :returns: effect_size_interpretation: adjective to describe magnitude of effect size\n",
    "    \"\"\"\n",
    "    if 0<=cohens_d<0.1:\n",
    "        effect_size_interpretation = \"Very Small\"\n",
    "    elif 0.1<=cohens_d<0.35:\n",
    "        effect_size_interpretation = \"Small\"\n",
    "    elif 0.35<=cohens_d<0.65:\n",
    "        effect_size_interpretation = \"Medium\"\n",
    "    elif 0.65<=cohens_d<0.9:\n",
    "        effect_size_interpretation = \"Large\"\n",
    "    elif cohens_d >= 0.9:\n",
    "        effect_size_interpretation = \"Very Large\"\n",
    "    return effect_size_interpretation"
   ]
  },
  {
   "cell_type": "code",
   "execution_count": 67,
   "metadata": {},
   "outputs": [],
   "source": [
    "def two_sample_data_setup_for_cohens_d(mean_1, mean_2, sample_std_dev_1, sample_std_dev_2):\n",
    "    \"\"\"\n",
    "    Creates two normal distributions of data values. \n",
    "    Calculates differences in values and standard deviation of list of differences.\n",
    "    Calculates Cohen's D - equation used in dependent t-tests\n",
    "\n",
    "    :param mean_1: mean of group one\n",
    "    :param mean_2: mean of group two\n",
    "    :param sample_std_dev_1: sample standard deviation of group one\n",
    "    :param sample_std_dev_2: sample standard deviation of group two\n",
    "    \n",
    "    :returns: values_1, values_2, cohens_d: values for group one, values for group two, Cohen's d\n",
    "    \"\"\"\n",
    "    values_1 = np.random.normal(loc=mean_1, scale=sample_std_dev_1, size=3000)\n",
    "    values_2 = np.random.normal(loc=mean_2, scale=sample_std_dev_2, size=3000)\n",
    "    differences_group_values = np.subtract(values_1, values_2)\n",
    "    std_dev_differences_group_values = np.std(differences_group_values, ddof=1)\n",
    "    cohens_d = round(abs((mean_1 - mean_2)/std_dev_differences_group_values), 2)\n",
    "    return values_1, values_2, cohens_d"
   ]
  },
  {
   "cell_type": "code",
   "execution_count": 68,
   "metadata": {},
   "outputs": [],
   "source": [
    "def visualize_distributions(values_1, values_2, cohens_d, cohens_d_interpretation):\n",
    "    \"\"\"\n",
    "    Plots KDE plots of values from values_1 and values_2.\n",
    "    Inserts Cohen's d value and interpretation in title\n",
    "\n",
    "    :param values_1: values in group one\n",
    "    :param values_2: values in group two \n",
    "    :param cohens_d: Cohen's d value\n",
    "    :param cohens_d_interpretation: text to describe magnitude of effect size\n",
    "    :returns: plot figure\n",
    "    \"\"\"\n",
    "    plt.figure(figsize=(10, 8))\n",
    "    sns.distplot(values_1, hist=False)\n",
    "    sns.distplot(values_2, hist=False)\n",
    "    plt.xlabel(\"value\", labelpad=13)\n",
    "    plt.ylabel(\"frequency\", labelpad=13)\n",
    "    plt.title(\"Distribution of Two Groups with {0} Cohen's d of {1}\".format(cohens_d_interpretation, cohens_d), y=1.015, fontsize=22);"
   ]
  },
  {
   "cell_type": "code",
   "execution_count": 69,
   "metadata": {},
   "outputs": [],
   "source": [
    "two_groups_close_means_small_std_dev = two_sample_data_setup_for_cohens_d(a_mean, b_mean, a_standard_deviation, b_standard_deviation)\n",
    "values_1 = two_groups_close_means_small_std_dev[0]\n",
    "values_2 = two_groups_close_means_small_std_dev[1]\n",
    "cohens_d = two_groups_close_means_small_std_dev[2]\n",
    "cohens_d_interpretation = interpret_cohens_d(cohens_d)"
   ]
  },
  {
   "cell_type": "code",
   "execution_count": 70,
   "metadata": {},
   "outputs": [
    {
     "data": {
      "image/png": "[encoded data removed]",
      "text/plain": [
       "<Figure size 720x576 with 1 Axes>"
      ]
     },
     "metadata": {
      "needs_background": "light"
     },
     "output_type": "display_data"
    }
   ],
   "source": [
    "visualize_distributions(values_1, values_2, cohens_d, cohens_d_interpretation)"
   ]
  },
  {
   "cell_type": "markdown",
   "metadata": {},
   "source": [
    "There's a 0.12 difference in means in terms of sample standard deviation units. The larger the Cohen's d value, the further sample means are from one another in standard deviation units."
   ]
  },
  {
   "cell_type": "code",
   "execution_count": 71,
   "metadata": {},
   "outputs": [
    {
     "name": "stdout",
     "output_type": "stream",
     "text": [
      "The Effect size is Small\n"
     ]
    }
   ],
   "source": [
    "print('The Effect size is '+str(interpret_cohens_d(0.12)))"
   ]
  },
  {
   "cell_type": "markdown",
   "metadata": {},
   "source": [
    "As seen above, the small Cohen's d value of 0.12 means that the sample means are close to one another in standard deviation units. In this test the difference is not statistically significant"
   ]
  },
  {
   "cell_type": "code",
   "execution_count": null,
   "metadata": {},
   "outputs": [],
   "source": []
  }
 ],
 "metadata": {
  "kernelspec": {
   "display_name": "Python 3",
   "language": "python",
   "name": "python3"
  },
  "language_info": {
   "codemirror_mode": {
    "name": "ipython",
    "version": 3
   },
   "file_extension": ".py",
   "mimetype": "text/x-python",
   "name": "python",
   "nbconvert_exporter": "python",
   "pygments_lexer": "ipython3",
   "version": "3.7.4"
  }
 },
 "nbformat": 4,
 "nbformat_minor": 2
}
