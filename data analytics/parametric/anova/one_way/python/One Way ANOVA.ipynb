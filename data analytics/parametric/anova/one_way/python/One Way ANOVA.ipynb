{
 "cells": [
  {
   "cell_type": "markdown",
   "metadata": {},
   "source": [
    "# One-Way Anova\n",
    "We'll be looking at SAT scores for five different districts ('Borough' in the dataset) in New York City for 2014-2015 school year."
   ]
  },
  {
   "cell_type": "code",
   "execution_count": 1,
   "metadata": {},
   "outputs": [],
   "source": [
    "import pandas as pd\n",
    "import numpy as np\n",
    "import scipy.stats as stats\n",
    "import researchpy as rp\n",
    "import statsmodels.api as sm\n",
    "from statsmodels.formula.api import ols\n",
    "import matplotlib.pyplot as plt\n",
    "import seaborn as sns\n",
    "%matplotlib inline\n",
    "\n",
    "from statsmodels.stats.multicomp import pairwise_tukeyhsd\n",
    "from statsmodels.stats.multicomp import MultiComparison"
   ]
  },
  {
   "cell_type": "code",
   "execution_count": 2,
   "metadata": {},
   "outputs": [
    {
     "data": {
      "text/html": [
       "<div>\n",
       "<style scoped>\n",
       "    .dataframe tbody tr th:only-of-type {\n",
       "        vertical-align: middle;\n",
       "    }\n",
       "\n",
       "    .dataframe tbody tr th {\n",
       "        vertical-align: top;\n",
       "    }\n",
       "\n",
       "    .dataframe thead th {\n",
       "        text-align: right;\n",
       "    }\n",
       "</style>\n",
       "<table border=\"1\" class=\"dataframe\">\n",
       "  <thead>\n",
       "    <tr style=\"text-align: right;\">\n",
       "      <th></th>\n",
       "      <th>School ID</th>\n",
       "      <th>School Name</th>\n",
       "      <th>Borough</th>\n",
       "      <th>Building Code</th>\n",
       "      <th>Street Address</th>\n",
       "      <th>City</th>\n",
       "      <th>State</th>\n",
       "      <th>Zip Code</th>\n",
       "      <th>Latitude</th>\n",
       "      <th>Longitude</th>\n",
       "      <th>...</th>\n",
       "      <th>End Time</th>\n",
       "      <th>Student Enrollment</th>\n",
       "      <th>Percent White</th>\n",
       "      <th>Percent Black</th>\n",
       "      <th>Percent Hispanic</th>\n",
       "      <th>Percent Asian</th>\n",
       "      <th>Average Score (SAT Math)</th>\n",
       "      <th>Average Score (SAT Reading)</th>\n",
       "      <th>Average Score (SAT Writing)</th>\n",
       "      <th>Percent Tested</th>\n",
       "    </tr>\n",
       "  </thead>\n",
       "  <tbody>\n",
       "    <tr>\n",
       "      <th>0</th>\n",
       "      <td>02M260</td>\n",
       "      <td>Clinton School Writers and Artists</td>\n",
       "      <td>Manhattan</td>\n",
       "      <td>M933</td>\n",
       "      <td>425 West 33rd Street</td>\n",
       "      <td>Manhattan</td>\n",
       "      <td>NY</td>\n",
       "      <td>10001</td>\n",
       "      <td>40.75321</td>\n",
       "      <td>-73.99786</td>\n",
       "      <td>...</td>\n",
       "      <td>NaN</td>\n",
       "      <td>NaN</td>\n",
       "      <td>NaN</td>\n",
       "      <td>NaN</td>\n",
       "      <td>NaN</td>\n",
       "      <td>NaN</td>\n",
       "      <td>NaN</td>\n",
       "      <td>NaN</td>\n",
       "      <td>NaN</td>\n",
       "      <td>NaN</td>\n",
       "    </tr>\n",
       "    <tr>\n",
       "      <th>1</th>\n",
       "      <td>06M211</td>\n",
       "      <td>Inwood Early College for Health and Informatio...</td>\n",
       "      <td>Manhattan</td>\n",
       "      <td>M052</td>\n",
       "      <td>650 Academy Street</td>\n",
       "      <td>Manhattan</td>\n",
       "      <td>NY</td>\n",
       "      <td>10002</td>\n",
       "      <td>40.86605</td>\n",
       "      <td>-73.92486</td>\n",
       "      <td>...</td>\n",
       "      <td>3:00 PM</td>\n",
       "      <td>87.0</td>\n",
       "      <td>3.4%</td>\n",
       "      <td>21.8%</td>\n",
       "      <td>67.8%</td>\n",
       "      <td>4.6%</td>\n",
       "      <td>NaN</td>\n",
       "      <td>NaN</td>\n",
       "      <td>NaN</td>\n",
       "      <td>NaN</td>\n",
       "    </tr>\n",
       "    <tr>\n",
       "      <th>2</th>\n",
       "      <td>01M539</td>\n",
       "      <td>New Explorations into Science, Technology and ...</td>\n",
       "      <td>Manhattan</td>\n",
       "      <td>M022</td>\n",
       "      <td>111 Columbia Street</td>\n",
       "      <td>Manhattan</td>\n",
       "      <td>NY</td>\n",
       "      <td>10002</td>\n",
       "      <td>40.71873</td>\n",
       "      <td>-73.97943</td>\n",
       "      <td>...</td>\n",
       "      <td>4:00 PM</td>\n",
       "      <td>1735.0</td>\n",
       "      <td>28.6%</td>\n",
       "      <td>13.3%</td>\n",
       "      <td>18.0%</td>\n",
       "      <td>38.5%</td>\n",
       "      <td>657.0</td>\n",
       "      <td>601.0</td>\n",
       "      <td>601.0</td>\n",
       "      <td>91.0%</td>\n",
       "    </tr>\n",
       "    <tr>\n",
       "      <th>3</th>\n",
       "      <td>02M294</td>\n",
       "      <td>Essex Street Academy</td>\n",
       "      <td>Manhattan</td>\n",
       "      <td>M445</td>\n",
       "      <td>350 Grand Street</td>\n",
       "      <td>Manhattan</td>\n",
       "      <td>NY</td>\n",
       "      <td>10002</td>\n",
       "      <td>40.71687</td>\n",
       "      <td>-73.98953</td>\n",
       "      <td>...</td>\n",
       "      <td>2:45 PM</td>\n",
       "      <td>358.0</td>\n",
       "      <td>11.7%</td>\n",
       "      <td>38.5%</td>\n",
       "      <td>41.3%</td>\n",
       "      <td>5.9%</td>\n",
       "      <td>395.0</td>\n",
       "      <td>411.0</td>\n",
       "      <td>387.0</td>\n",
       "      <td>78.9%</td>\n",
       "    </tr>\n",
       "    <tr>\n",
       "      <th>4</th>\n",
       "      <td>02M308</td>\n",
       "      <td>Lower Manhattan Arts Academy</td>\n",
       "      <td>Manhattan</td>\n",
       "      <td>M445</td>\n",
       "      <td>350 Grand Street</td>\n",
       "      <td>Manhattan</td>\n",
       "      <td>NY</td>\n",
       "      <td>10002</td>\n",
       "      <td>40.71687</td>\n",
       "      <td>-73.98953</td>\n",
       "      <td>...</td>\n",
       "      <td>3:00 PM</td>\n",
       "      <td>383.0</td>\n",
       "      <td>3.1%</td>\n",
       "      <td>28.2%</td>\n",
       "      <td>56.9%</td>\n",
       "      <td>8.6%</td>\n",
       "      <td>418.0</td>\n",
       "      <td>428.0</td>\n",
       "      <td>415.0</td>\n",
       "      <td>65.1%</td>\n",
       "    </tr>\n",
       "  </tbody>\n",
       "</table>\n",
       "<p>5 rows × 22 columns</p>\n",
       "</div>"
      ],
      "text/plain": [
       "  School ID                                        School Name    Borough  \\\n",
       "0    02M260                 Clinton School Writers and Artists  Manhattan   \n",
       "1    06M211  Inwood Early College for Health and Informatio...  Manhattan   \n",
       "2    01M539  New Explorations into Science, Technology and ...  Manhattan   \n",
       "3    02M294                               Essex Street Academy  Manhattan   \n",
       "4    02M308                       Lower Manhattan Arts Academy  Manhattan   \n",
       "\n",
       "  Building Code        Street Address       City State  Zip Code  Latitude  \\\n",
       "0          M933  425 West 33rd Street  Manhattan    NY     10001  40.75321   \n",
       "1          M052    650 Academy Street  Manhattan    NY     10002  40.86605   \n",
       "2          M022   111 Columbia Street  Manhattan    NY     10002  40.71873   \n",
       "3          M445      350 Grand Street  Manhattan    NY     10002  40.71687   \n",
       "4          M445      350 Grand Street  Manhattan    NY     10002  40.71687   \n",
       "\n",
       "   Longitude  ... End Time Student Enrollment Percent White  Percent Black  \\\n",
       "0  -73.99786  ...      NaN                NaN           NaN            NaN   \n",
       "1  -73.92486  ...  3:00 PM               87.0          3.4%          21.8%   \n",
       "2  -73.97943  ...  4:00 PM             1735.0         28.6%          13.3%   \n",
       "3  -73.98953  ...  2:45 PM              358.0         11.7%          38.5%   \n",
       "4  -73.98953  ...  3:00 PM              383.0          3.1%          28.2%   \n",
       "\n",
       "  Percent Hispanic Percent Asian Average Score (SAT Math)  \\\n",
       "0              NaN           NaN                      NaN   \n",
       "1            67.8%          4.6%                      NaN   \n",
       "2            18.0%         38.5%                    657.0   \n",
       "3            41.3%          5.9%                    395.0   \n",
       "4            56.9%          8.6%                    418.0   \n",
       "\n",
       "  Average Score (SAT Reading)  Average Score (SAT Writing)  Percent Tested  \n",
       "0                         NaN                          NaN             NaN  \n",
       "1                         NaN                          NaN             NaN  \n",
       "2                       601.0                        601.0           91.0%  \n",
       "3                       411.0                        387.0           78.9%  \n",
       "4                       428.0                        415.0           65.1%  \n",
       "\n",
       "[5 rows x 22 columns]"
      ]
     },
     "execution_count": 2,
     "metadata": {},
     "output_type": "execute_result"
    }
   ],
   "source": [
    "# Loading data\n",
    "data = pd.read_csv(\"scores.csv\")\n",
    "data.head()"
   ]
  },
  {
   "cell_type": "markdown",
   "metadata": {},
   "source": [
    "# Data summary"
   ]
  },
  {
   "cell_type": "code",
   "execution_count": 3,
   "metadata": {},
   "outputs": [
    {
     "name": "stdout",
     "output_type": "stream",
     "text": [
      "(435, 22)\n"
     ]
    },
    {
     "data": {
      "text/html": [
       "<div>\n",
       "<style scoped>\n",
       "    .dataframe tbody tr th:only-of-type {\n",
       "        vertical-align: middle;\n",
       "    }\n",
       "\n",
       "    .dataframe tbody tr th {\n",
       "        vertical-align: top;\n",
       "    }\n",
       "\n",
       "    .dataframe thead th {\n",
       "        text-align: right;\n",
       "    }\n",
       "</style>\n",
       "<table border=\"1\" class=\"dataframe\">\n",
       "  <thead>\n",
       "    <tr style=\"text-align: right;\">\n",
       "      <th></th>\n",
       "      <th>count</th>\n",
       "      <th>mean</th>\n",
       "      <th>std</th>\n",
       "      <th>min</th>\n",
       "      <th>25%</th>\n",
       "      <th>50%</th>\n",
       "      <th>75%</th>\n",
       "      <th>max</th>\n",
       "    </tr>\n",
       "  </thead>\n",
       "  <tbody>\n",
       "    <tr>\n",
       "      <th>Zip Code</th>\n",
       "      <td>435.0</td>\n",
       "      <td>10726.096552</td>\n",
       "      <td>537.927907</td>\n",
       "      <td>10001.00000</td>\n",
       "      <td>10301.500000</td>\n",
       "      <td>10472.00000</td>\n",
       "      <td>11217.000000</td>\n",
       "      <td>11694.00000</td>\n",
       "    </tr>\n",
       "    <tr>\n",
       "      <th>Latitude</th>\n",
       "      <td>435.0</td>\n",
       "      <td>40.745472</td>\n",
       "      <td>0.080937</td>\n",
       "      <td>40.52823</td>\n",
       "      <td>40.690495</td>\n",
       "      <td>40.74121</td>\n",
       "      <td>40.822095</td>\n",
       "      <td>40.88837</td>\n",
       "    </tr>\n",
       "    <tr>\n",
       "      <th>Longitude</th>\n",
       "      <td>435.0</td>\n",
       "      <td>-73.921072</td>\n",
       "      <td>0.071705</td>\n",
       "      <td>-74.19215</td>\n",
       "      <td>-73.979260</td>\n",
       "      <td>-73.92514</td>\n",
       "      <td>-73.882580</td>\n",
       "      <td>-73.72691</td>\n",
       "    </tr>\n",
       "    <tr>\n",
       "      <th>Student Enrollment</th>\n",
       "      <td>428.0</td>\n",
       "      <td>702.357477</td>\n",
       "      <td>759.176061</td>\n",
       "      <td>62.00000</td>\n",
       "      <td>357.250000</td>\n",
       "      <td>466.00000</td>\n",
       "      <td>623.250000</td>\n",
       "      <td>5447.00000</td>\n",
       "    </tr>\n",
       "    <tr>\n",
       "      <th>Average Score (SAT Math)</th>\n",
       "      <td>375.0</td>\n",
       "      <td>432.944000</td>\n",
       "      <td>71.952373</td>\n",
       "      <td>317.00000</td>\n",
       "      <td>386.000000</td>\n",
       "      <td>415.00000</td>\n",
       "      <td>458.500000</td>\n",
       "      <td>754.00000</td>\n",
       "    </tr>\n",
       "    <tr>\n",
       "      <th>Average Score (SAT Reading)</th>\n",
       "      <td>375.0</td>\n",
       "      <td>424.504000</td>\n",
       "      <td>61.881069</td>\n",
       "      <td>302.00000</td>\n",
       "      <td>386.000000</td>\n",
       "      <td>413.00000</td>\n",
       "      <td>445.000000</td>\n",
       "      <td>697.00000</td>\n",
       "    </tr>\n",
       "    <tr>\n",
       "      <th>Average Score (SAT Writing)</th>\n",
       "      <td>375.0</td>\n",
       "      <td>418.458667</td>\n",
       "      <td>64.548599</td>\n",
       "      <td>284.00000</td>\n",
       "      <td>382.000000</td>\n",
       "      <td>403.00000</td>\n",
       "      <td>437.500000</td>\n",
       "      <td>693.00000</td>\n",
       "    </tr>\n",
       "  </tbody>\n",
       "</table>\n",
       "</div>"
      ],
      "text/plain": [
       "                             count          mean         std          min  \\\n",
       "Zip Code                     435.0  10726.096552  537.927907  10001.00000   \n",
       "Latitude                     435.0     40.745472    0.080937     40.52823   \n",
       "Longitude                    435.0    -73.921072    0.071705    -74.19215   \n",
       "Student Enrollment           428.0    702.357477  759.176061     62.00000   \n",
       "Average Score (SAT Math)     375.0    432.944000   71.952373    317.00000   \n",
       "Average Score (SAT Reading)  375.0    424.504000   61.881069    302.00000   \n",
       "Average Score (SAT Writing)  375.0    418.458667   64.548599    284.00000   \n",
       "\n",
       "                                      25%          50%           75%  \\\n",
       "Zip Code                     10301.500000  10472.00000  11217.000000   \n",
       "Latitude                        40.690495     40.74121     40.822095   \n",
       "Longitude                      -73.979260    -73.92514    -73.882580   \n",
       "Student Enrollment             357.250000    466.00000    623.250000   \n",
       "Average Score (SAT Math)       386.000000    415.00000    458.500000   \n",
       "Average Score (SAT Reading)    386.000000    413.00000    445.000000   \n",
       "Average Score (SAT Writing)    382.000000    403.00000    437.500000   \n",
       "\n",
       "                                     max  \n",
       "Zip Code                     11694.00000  \n",
       "Latitude                        40.88837  \n",
       "Longitude                      -73.72691  \n",
       "Student Enrollment            5447.00000  \n",
       "Average Score (SAT Math)       754.00000  \n",
       "Average Score (SAT Reading)    697.00000  \n",
       "Average Score (SAT Writing)    693.00000  "
      ]
     },
     "execution_count": 3,
     "metadata": {},
     "output_type": "execute_result"
    }
   ],
   "source": [
    "print(data.shape)\n",
    "data.describe().transpose()"
   ]
  },
  {
   "cell_type": "markdown",
   "metadata": {},
   "source": [
    " Our independent variable (IV) is 'Borough' which is the district you will find the school"
   ]
  },
  {
   "cell_type": "code",
   "execution_count": 4,
   "metadata": {},
   "outputs": [
    {
     "data": {
      "text/plain": [
       "Brooklyn         121\n",
       "Bronx            118\n",
       "Manhattan        106\n",
       "Queens            80\n",
       "Staten Island     10\n",
       "Name: Borough, dtype: int64"
      ]
     },
     "execution_count": 4,
     "metadata": {},
     "output_type": "execute_result"
    }
   ],
   "source": [
    "data['Borough'].value_counts()"
   ]
  },
  {
   "cell_type": "markdown",
   "metadata": {},
   "source": [
    "Our dependent variable (DV) will be a new feature which we will generate by getting the total score for Average Score (SAT Math), Average Score (SAT Reading) and Average Score (SAT Writing). Let's name our new feature 'total_score' as shown below:"
   ]
  },
  {
   "cell_type": "code",
   "execution_count": 5,
   "metadata": {},
   "outputs": [],
   "source": [
    "data['total_score'] = data['Average Score (SAT Reading)'] + data['Average Score (SAT Math)']    +  \\\n",
    "                      data['Average Score (SAT Writing)']"
   ]
  },
  {
   "cell_type": "markdown",
   "metadata": {},
   "source": [
    "# Let's now look at Missing data if any"
   ]
  },
  {
   "cell_type": "code",
   "execution_count": 6,
   "metadata": {},
   "outputs": [],
   "source": [
    "#Check missing values by percentage\n",
    "def check_missing_data(df):\n",
    "    total = df.isnull().sum().sort_values(ascending=False)\n",
    "    percent = (df.isnull().sum()/df.isnull().count()).sort_values(ascending=False)\n",
    "    missing_data = pd.concat([total, percent*100], axis=1, keys=['Total', 'Percent'])\n",
    "    return missing_data.loc[missing_data['Percent'] > 0].head(40)"
   ]
  },
  {
   "cell_type": "code",
   "execution_count": 7,
   "metadata": {},
   "outputs": [
    {
     "data": {
      "text/html": [
       "<div>\n",
       "<style scoped>\n",
       "    .dataframe tbody tr th:only-of-type {\n",
       "        vertical-align: middle;\n",
       "    }\n",
       "\n",
       "    .dataframe tbody tr th {\n",
       "        vertical-align: top;\n",
       "    }\n",
       "\n",
       "    .dataframe thead th {\n",
       "        text-align: right;\n",
       "    }\n",
       "</style>\n",
       "<table border=\"1\" class=\"dataframe\">\n",
       "  <thead>\n",
       "    <tr style=\"text-align: right;\">\n",
       "      <th></th>\n",
       "      <th>Total</th>\n",
       "      <th>Percent</th>\n",
       "    </tr>\n",
       "  </thead>\n",
       "  <tbody>\n",
       "    <tr>\n",
       "      <th>total_score</th>\n",
       "      <td>60</td>\n",
       "      <td>13.793103</td>\n",
       "    </tr>\n",
       "    <tr>\n",
       "      <th>Average Score (SAT Writing)</th>\n",
       "      <td>60</td>\n",
       "      <td>13.793103</td>\n",
       "    </tr>\n",
       "    <tr>\n",
       "      <th>Average Score (SAT Reading)</th>\n",
       "      <td>60</td>\n",
       "      <td>13.793103</td>\n",
       "    </tr>\n",
       "    <tr>\n",
       "      <th>Average Score (SAT Math)</th>\n",
       "      <td>60</td>\n",
       "      <td>13.793103</td>\n",
       "    </tr>\n",
       "    <tr>\n",
       "      <th>Percent Tested</th>\n",
       "      <td>49</td>\n",
       "      <td>11.264368</td>\n",
       "    </tr>\n",
       "    <tr>\n",
       "      <th>Percent Asian</th>\n",
       "      <td>7</td>\n",
       "      <td>1.609195</td>\n",
       "    </tr>\n",
       "    <tr>\n",
       "      <th>Percent Hispanic</th>\n",
       "      <td>7</td>\n",
       "      <td>1.609195</td>\n",
       "    </tr>\n",
       "    <tr>\n",
       "      <th>Percent Black</th>\n",
       "      <td>7</td>\n",
       "      <td>1.609195</td>\n",
       "    </tr>\n",
       "    <tr>\n",
       "      <th>Percent White</th>\n",
       "      <td>7</td>\n",
       "      <td>1.609195</td>\n",
       "    </tr>\n",
       "    <tr>\n",
       "      <th>Student Enrollment</th>\n",
       "      <td>7</td>\n",
       "      <td>1.609195</td>\n",
       "    </tr>\n",
       "    <tr>\n",
       "      <th>Start Time</th>\n",
       "      <td>4</td>\n",
       "      <td>0.919540</td>\n",
       "    </tr>\n",
       "    <tr>\n",
       "      <th>End Time</th>\n",
       "      <td>4</td>\n",
       "      <td>0.919540</td>\n",
       "    </tr>\n",
       "  </tbody>\n",
       "</table>\n",
       "</div>"
      ],
      "text/plain": [
       "                             Total    Percent\n",
       "total_score                     60  13.793103\n",
       "Average Score (SAT Writing)     60  13.793103\n",
       "Average Score (SAT Reading)     60  13.793103\n",
       "Average Score (SAT Math)        60  13.793103\n",
       "Percent Tested                  49  11.264368\n",
       "Percent Asian                    7   1.609195\n",
       "Percent Hispanic                 7   1.609195\n",
       "Percent Black                    7   1.609195\n",
       "Percent White                    7   1.609195\n",
       "Student Enrollment               7   1.609195\n",
       "Start Time                       4   0.919540\n",
       "End Time                         4   0.919540"
      ]
     },
     "execution_count": 7,
     "metadata": {},
     "output_type": "execute_result"
    }
   ],
   "source": [
    "#missing values\n",
    "check_missing_data(data)"
   ]
  },
  {
   "cell_type": "markdown",
   "metadata": {},
   "source": [
    "Let's drop rows that have our DV and IV missing"
   ]
  },
  {
   "cell_type": "code",
   "execution_count": 8,
   "metadata": {},
   "outputs": [],
   "source": [
    "data = data[['Borough', 'total_score']].dropna()    "
   ]
  },
  {
   "cell_type": "markdown",
   "metadata": {},
   "source": [
    "Let's now find the mean score of the each district across all schools."
   ]
  },
  {
   "cell_type": "code",
   "execution_count": 9,
   "metadata": {},
   "outputs": [
    {
     "name": "stdout",
     "output_type": "stream",
     "text": [
      "Brooklyn_std : 154.8684270520867\n",
      "Bronx_std : 150.39390071890668\n",
      "Manhattan_std : 230.2941395363782\n",
      "Queens_std : 195.25289850192115\n",
      "Staten Island_std : 222.30359621222706\n"
     ]
    },
    {
     "data": {
      "image/png": "[encoded data removed]",
      "text/plain": [
       "<Figure size 720x360 with 1 Axes>"
      ]
     },
     "metadata": {},
     "output_type": "display_data"
    }
   ],
   "source": [
    "x = ['Brooklyn', 'Bronx', 'Manhattan', 'Queens', 'Staten Island']\n",
    "district_dict = {}\n",
    "\n",
    "#Assigns each test score series to a dictionary key\n",
    "for district in x:\n",
    "    district_dict[district] = data[data['Borough'] == district]['total_score']\n",
    "\n",
    "\n",
    "y = []\n",
    "yerror = []\n",
    "#Assigns the mean score and 95% confidence limit to each district\n",
    "for district in x:\n",
    "    y.append(district_dict[district].mean())\n",
    "    yerror.append(1.96*district_dict[district].std()/np.sqrt(district_dict[district].shape[0]))    \n",
    "    print(district + '_std : {}'.format(district_dict[district].std()))\n",
    "    \n",
    "sns.set(font_scale=1.8)\n",
    "fig = plt.figure(figsize=(10,5))\n",
    "ax = sns.barplot(x, y, yerr=yerror)\n",
    "ax.set_ylabel('Average Total SAT Score')\n",
    "plt.show()"
   ]
  },
  {
   "cell_type": "markdown",
   "metadata": {},
   "source": [
    "Visualize the means using a boxplot"
   ]
  },
  {
   "cell_type": "code",
   "execution_count": 10,
   "metadata": {},
   "outputs": [
    {
     "data": {
      "image/png": "[encoded data removed]",
      "text/plain": [
       "<Figure size 864x576 with 1 Axes>"
      ]
     },
     "metadata": {},
     "output_type": "display_data"
    }
   ],
   "source": [
    "#Create a boxplot\n",
    "data.boxplot('total_score', by='Borough', figsize=(12, 8))\n",
    "\n",
    "ctrl = data['total_score'][data.Borough == 'ctrl']\n",
    "\n",
    "grps = pd.unique(data.Borough.values)\n",
    "d_data = {grp:data['total_score'][data.Borough == grp] for grp in grps}\n",
    "\n",
    "k = len(pd.unique(data.Borough))  # number of conditions\n",
    "N = len(data.values)  # conditions times participants\n",
    "n = data.groupby('Borough').size()[0] #Participants in each condition"
   ]
  },
  {
   "cell_type": "markdown",
   "metadata": {},
   "source": [
    "Judging by the Boxplot there are differences in means among the districts. However, we can not tell if the difference is statistically significant."
   ]
  },
  {
   "cell_type": "markdown",
   "metadata": {},
   "source": [
    "# The Null and Alternative Hypothesis\n",
    "\n",
    "There are no significant differences between the groups' mean SAT scores.\n",
    "\n",
    "H0:μ1=μ2=μ3=μ4=μ5\n",
    "\n",
    "There is a significant difference between the groups' mean SAT scores.\n",
    "\n",
    "Ha:μi≠μj\n",
    "\n",
    "Where μi\n",
    "and μj can be the mean of any group. If there is at least one group with a significant difference with another group, the null hypothesis will be rejected.\n",
    "\n",
    "Similar to the t-test, we can calculate a score for the ANOVA. Then we can look up the score in the F-distribution and obtain a p-value.\n",
    "\n",
    "The F-statistic is defined as follows:\n",
    "\n",
    "F=MSb/MSw\n",
    "\n",
    "MSb=SSb/K−1\n",
    "\n",
    "MSw=SSw/N−K\n",
    "\n",
    "SSb=nk∑(xk¯−xG¯)2\n",
    "\n",
    "SSw=∑(xi−xk¯)2\n",
    "\n",
    "Where MSb\n",
    "is the estimated variance between groups and MSw is the estimated variance within groups, xk¯ is the mean within each group, nk is the sample size for each group, xi is the individual data point, and xG¯ is the total mean.\n",
    "\n",
    "This is quite a lot of math, fortunately scipy has a function that plugs in all the values for us as shown below"
   ]
  },
  {
   "cell_type": "markdown",
   "metadata": {},
   "source": [
    "# ANOVA with scipy.stats"
   ]
  },
  {
   "cell_type": "code",
   "execution_count": 11,
   "metadata": {},
   "outputs": [
    {
     "data": {
      "text/plain": [
       "F_onewayResult(statistic=12.733085029201668, pvalue=1.0161974965566023e-09)"
      ]
     },
     "execution_count": 11,
     "metadata": {},
     "output_type": "execute_result"
    }
   ],
   "source": [
    "stats.f_oneway(\n",
    "             district_dict['Brooklyn'], district_dict['Bronx'], \\\n",
    "             district_dict['Manhattan'], district_dict['Queens'], \\\n",
    "             district_dict['Staten Island']\n",
    ")"
   ]
  },
  {
   "cell_type": "markdown",
   "metadata": {},
   "source": [
    "The resulting pvalue was less than 0.05. We can reject the null hypothesis and conclude that there is a significant difference between the SAT scores for each district. Even though we've obtained a very low p-value, we cannot make any assumptions about the magnitude of the effect. Also scipy does not calculate SSb and SSw, so it is probably better to write our own code."
   ]
  },
  {
   "cell_type": "code",
   "execution_count": 12,
   "metadata": {},
   "outputs": [
    {
     "name": "stdout",
     "output_type": "stream",
     "text": [
      "F_statistic: 12.733085029201687\n"
     ]
    }
   ],
   "source": [
    "districts = ['Brooklyn', 'Bronx', 'Manhattan', 'Queens', 'Staten Island']\n",
    "\n",
    "ss_b = 0\n",
    "for d in districts:\n",
    "    ss_b += district_dict[d].shape[0] * \\\n",
    "            np.sum((district_dict[d].mean() - data['total_score'].mean())**2)\n",
    "\n",
    "ss_w = 0\n",
    "for d in districts:\n",
    "    ss_w += np.sum((district_dict[d] - district_dict[d].mean())**2)\n",
    "\n",
    "msb = ss_b/4\n",
    "msw = ss_w/(len(data)-5)\n",
    "f=msb/msw\n",
    "print('F_statistic: {}'.format(f))"
   ]
  },
  {
   "cell_type": "markdown",
   "metadata": {},
   "source": [
    "# ANOVA with statsmodels\n",
    "Using statsmodels, we get a bit more information and enter the model as a regression formula"
   ]
  },
  {
   "cell_type": "code",
   "execution_count": 13,
   "metadata": {},
   "outputs": [
    {
     "data": {
      "text/html": [
       "<table class=\"simpletable\">\n",
       "<caption>OLS Regression Results</caption>\n",
       "<tr>\n",
       "  <th>Dep. Variable:</th>       <td>total_score</td>   <th>  R-squared:         </th> <td>   0.121</td>\n",
       "</tr>\n",
       "<tr>\n",
       "  <th>Model:</th>                   <td>OLS</td>       <th>  Adj. R-squared:    </th> <td>   0.111</td>\n",
       "</tr>\n",
       "<tr>\n",
       "  <th>Method:</th>             <td>Least Squares</td>  <th>  F-statistic:       </th> <td>   12.73</td>\n",
       "</tr>\n",
       "<tr>\n",
       "  <th>Date:</th>             <td>Tue, 18 Feb 2020</td> <th>  Prob (F-statistic):</th> <td>1.02e-09</td>\n",
       "</tr>\n",
       "<tr>\n",
       "  <th>Time:</th>                 <td>12:23:01</td>     <th>  Log-Likelihood:    </th> <td> -2484.6</td>\n",
       "</tr>\n",
       "<tr>\n",
       "  <th>No. Observations:</th>      <td>   375</td>      <th>  AIC:               </th> <td>   4979.</td>\n",
       "</tr>\n",
       "<tr>\n",
       "  <th>Df Residuals:</th>          <td>   370</td>      <th>  BIC:               </th> <td>   4999.</td>\n",
       "</tr>\n",
       "<tr>\n",
       "  <th>Df Model:</th>              <td>     4</td>      <th>                     </th>     <td> </td>   \n",
       "</tr>\n",
       "<tr>\n",
       "  <th>Covariance Type:</th>      <td>nonrobust</td>    <th>                     </th>     <td> </td>   \n",
       "</tr>\n",
       "</table>\n",
       "<table class=\"simpletable\">\n",
       "<tr>\n",
       "               <td></td>                  <th>coef</th>     <th>std err</th>      <th>t</th>      <th>P>|t|</th>  <th>[0.025</th>    <th>0.975]</th>  \n",
       "</tr>\n",
       "<tr>\n",
       "  <th>Intercept</th>                   <td> 1202.7245</td> <td>   18.558</td> <td>   64.807</td> <td> 0.000</td> <td> 1166.231</td> <td> 1239.218</td>\n",
       "</tr>\n",
       "<tr>\n",
       "  <th>C(Borough)[T.Brooklyn]</th>      <td>   27.5324</td> <td>   25.575</td> <td>    1.077</td> <td> 0.282</td> <td>  -22.758</td> <td>   77.823</td>\n",
       "</tr>\n",
       "<tr>\n",
       "  <th>C(Borough)[T.Manhattan]</th>     <td>  137.4103</td> <td>   26.901</td> <td>    5.108</td> <td> 0.000</td> <td>   84.512</td> <td>  190.308</td>\n",
       "</tr>\n",
       "<tr>\n",
       "  <th>C(Borough)[T.Queens]</th>        <td>  142.7538</td> <td>   28.872</td> <td>    4.944</td> <td> 0.000</td> <td>   85.980</td> <td>  199.527</td>\n",
       "</tr>\n",
       "<tr>\n",
       "  <th>C(Borough)[T.Staten Island]</th> <td>  236.2755</td> <td>   60.989</td> <td>    3.874</td> <td> 0.000</td> <td>  116.346</td> <td>  356.205</td>\n",
       "</tr>\n",
       "</table>\n",
       "<table class=\"simpletable\">\n",
       "<tr>\n",
       "  <th>Omnibus:</th>       <td>143.702</td> <th>  Durbin-Watson:     </th> <td>   2.015</td> \n",
       "</tr>\n",
       "<tr>\n",
       "  <th>Prob(Omnibus):</th> <td> 0.000</td>  <th>  Jarque-Bera (JB):  </th> <td> 477.918</td> \n",
       "</tr>\n",
       "<tr>\n",
       "  <th>Skew:</th>          <td> 1.749</td>  <th>  Prob(JB):          </th> <td>1.67e-104</td>\n",
       "</tr>\n",
       "<tr>\n",
       "  <th>Kurtosis:</th>      <td> 7.283</td>  <th>  Cond. No.          </th> <td>    7.20</td> \n",
       "</tr>\n",
       "</table><br/><br/>Warnings:<br/>[1] Standard Errors assume that the covariance matrix of the errors is correctly specified."
      ],
      "text/plain": [
       "<class 'statsmodels.iolib.summary.Summary'>\n",
       "\"\"\"\n",
       "                            OLS Regression Results                            \n",
       "==============================================================================\n",
       "Dep. Variable:            total_score   R-squared:                       0.121\n",
       "Model:                            OLS   Adj. R-squared:                  0.111\n",
       "Method:                 Least Squares   F-statistic:                     12.73\n",
       "Date:                Tue, 18 Feb 2020   Prob (F-statistic):           1.02e-09\n",
       "Time:                        12:23:01   Log-Likelihood:                -2484.6\n",
       "No. Observations:                 375   AIC:                             4979.\n",
       "Df Residuals:                     370   BIC:                             4999.\n",
       "Df Model:                           4                                         \n",
       "Covariance Type:            nonrobust                                         \n",
       "===============================================================================================\n",
       "                                  coef    std err          t      P>|t|      [0.025      0.975]\n",
       "-----------------------------------------------------------------------------------------------\n",
       "Intercept                    1202.7245     18.558     64.807      0.000    1166.231    1239.218\n",
       "C(Borough)[T.Brooklyn]         27.5324     25.575      1.077      0.282     -22.758      77.823\n",
       "C(Borough)[T.Manhattan]       137.4103     26.901      5.108      0.000      84.512     190.308\n",
       "C(Borough)[T.Queens]          142.7538     28.872      4.944      0.000      85.980     199.527\n",
       "C(Borough)[T.Staten Island]   236.2755     60.989      3.874      0.000     116.346     356.205\n",
       "==============================================================================\n",
       "Omnibus:                      143.702   Durbin-Watson:                   2.015\n",
       "Prob(Omnibus):                  0.000   Jarque-Bera (JB):              477.918\n",
       "Skew:                           1.749   Prob(JB):                    1.67e-104\n",
       "Kurtosis:                       7.283   Cond. No.                         7.20\n",
       "==============================================================================\n",
       "\n",
       "Warnings:\n",
       "[1] Standard Errors assume that the covariance matrix of the errors is correctly specified.\n",
       "\"\"\""
      ]
     },
     "execution_count": 13,
     "metadata": {},
     "output_type": "execute_result"
    }
   ],
   "source": [
    "results = ols('total_score ~ C(Borough)', data=data).fit()\n",
    "results.summary()"
   ]
  },
  {
   "cell_type": "markdown",
   "metadata": {},
   "source": [
    "Let’s interpret the table. Overall the model is significiant, F(4,370)= 12.73, p < 0.05. This tells us that there is a significant difference in the group means. Coming from the ANOVA framework, the information we are really after in this table it the F-statistic and it’s corresponding p-value.This tells us if we explained a significant amount of the overall variance. "
   ]
  },
  {
   "cell_type": "markdown",
   "metadata": {},
   "source": [
    "To test between groups, we need to do some post-hoc testing where we can compare all groups against each other. We are still missing some useful information with this method, we need an ANOVA table."
   ]
  },
  {
   "cell_type": "code",
   "execution_count": 14,
   "metadata": {},
   "outputs": [
    {
     "data": {
      "text/html": [
       "<div>\n",
       "<style scoped>\n",
       "    .dataframe tbody tr th:only-of-type {\n",
       "        vertical-align: middle;\n",
       "    }\n",
       "\n",
       "    .dataframe tbody tr th {\n",
       "        vertical-align: top;\n",
       "    }\n",
       "\n",
       "    .dataframe thead th {\n",
       "        text-align: right;\n",
       "    }\n",
       "</style>\n",
       "<table border=\"1\" class=\"dataframe\">\n",
       "  <thead>\n",
       "    <tr style=\"text-align: right;\">\n",
       "      <th></th>\n",
       "      <th>sum_sq</th>\n",
       "      <th>df</th>\n",
       "      <th>F</th>\n",
       "      <th>PR(&gt;F)</th>\n",
       "    </tr>\n",
       "  </thead>\n",
       "  <tbody>\n",
       "    <tr>\n",
       "      <th>C(Borough)</th>\n",
       "      <td>1.719114e+06</td>\n",
       "      <td>4.0</td>\n",
       "      <td>12.733085</td>\n",
       "      <td>1.016197e-09</td>\n",
       "    </tr>\n",
       "    <tr>\n",
       "      <th>Residual</th>\n",
       "      <td>1.248857e+07</td>\n",
       "      <td>370.0</td>\n",
       "      <td>NaN</td>\n",
       "      <td>NaN</td>\n",
       "    </tr>\n",
       "  </tbody>\n",
       "</table>\n",
       "</div>"
      ],
      "text/plain": [
       "                  sum_sq     df          F        PR(>F)\n",
       "C(Borough)  1.719114e+06    4.0  12.733085  1.016197e-09\n",
       "Residual    1.248857e+07  370.0        NaN           NaN"
      ]
     },
     "execution_count": 14,
     "metadata": {},
     "output_type": "execute_result"
    }
   ],
   "source": [
    "aov_table = sm.stats.anova_lm(results, typ=2)\n",
    "aov_table"
   ]
  },
  {
   "cell_type": "markdown",
   "metadata": {},
   "source": [
    "Let’s break down this ANOVA table. The Borough (district) row is the between groups effect which is the overall experimental effect. The sum of squares for the model is how much variance is explained by our model. The current model explains a significant amount of variance, F(4,370)= 12.73, p < 0.05."
   ]
  },
  {
   "cell_type": "markdown",
   "metadata": {},
   "source": [
    "# The Effect Size\n",
    "\n",
    "We can calculate the magnitude of the effect to determine how large the difference is. There are a few different effect sizes one can use: eta squared, and omega squared. Omega squared is considered a better measure of effect size than eta squared because it is unbiased in it’s calculation. We will use Eta-squared here."
   ]
  },
  {
   "cell_type": "code",
   "execution_count": 15,
   "metadata": {},
   "outputs": [],
   "source": [
    "def anova_table(aov):\n",
    "    aov['mean_sq'] = aov[:]['sum_sq']/aov[:]['df']\n",
    "    \n",
    "    aov['eta_sq'] = aov[:-1]['sum_sq']/sum(aov['sum_sq'])\n",
    "    \n",
    "    aov['omega_sq'] = (aov[:-1]['sum_sq']-(aov[:-1]['df']*aov['mean_sq'][-1]))/(sum(aov['sum_sq'])+aov['mean_sq'][-1])\n",
    "    \n",
    "    cols = ['sum_sq', 'df', 'mean_sq', 'F', 'PR(>F)', 'eta_sq', 'omega_sq']\n",
    "    aov = aov[cols]\n",
    "    return aov"
   ]
  },
  {
   "cell_type": "code",
   "execution_count": 16,
   "metadata": {},
   "outputs": [
    {
     "data": {
      "text/html": [
       "<div>\n",
       "<style scoped>\n",
       "    .dataframe tbody tr th:only-of-type {\n",
       "        vertical-align: middle;\n",
       "    }\n",
       "\n",
       "    .dataframe tbody tr th {\n",
       "        vertical-align: top;\n",
       "    }\n",
       "\n",
       "    .dataframe thead th {\n",
       "        text-align: right;\n",
       "    }\n",
       "</style>\n",
       "<table border=\"1\" class=\"dataframe\">\n",
       "  <thead>\n",
       "    <tr style=\"text-align: right;\">\n",
       "      <th></th>\n",
       "      <th>sum_sq</th>\n",
       "      <th>df</th>\n",
       "      <th>mean_sq</th>\n",
       "      <th>F</th>\n",
       "      <th>PR(&gt;F)</th>\n",
       "      <th>eta_sq</th>\n",
       "      <th>omega_sq</th>\n",
       "    </tr>\n",
       "  </thead>\n",
       "  <tbody>\n",
       "    <tr>\n",
       "      <th>C(Borough)</th>\n",
       "      <td>1.719114e+06</td>\n",
       "      <td>4.0</td>\n",
       "      <td>429778.441339</td>\n",
       "      <td>12.733085</td>\n",
       "      <td>1.016197e-09</td>\n",
       "      <td>0.120999</td>\n",
       "      <td>0.111232</td>\n",
       "    </tr>\n",
       "    <tr>\n",
       "      <th>Residual</th>\n",
       "      <td>1.248857e+07</td>\n",
       "      <td>370.0</td>\n",
       "      <td>33752.891805</td>\n",
       "      <td>NaN</td>\n",
       "      <td>NaN</td>\n",
       "      <td>NaN</td>\n",
       "      <td>NaN</td>\n",
       "    </tr>\n",
       "  </tbody>\n",
       "</table>\n",
       "</div>"
      ],
      "text/plain": [
       "                  sum_sq     df        mean_sq          F        PR(>F)  \\\n",
       "C(Borough)  1.719114e+06    4.0  429778.441339  12.733085  1.016197e-09   \n",
       "Residual    1.248857e+07  370.0   33752.891805        NaN           NaN   \n",
       "\n",
       "              eta_sq  omega_sq  \n",
       "C(Borough)  0.120999  0.111232  \n",
       "Residual         NaN       NaN  "
      ]
     },
     "execution_count": 16,
     "metadata": {},
     "output_type": "execute_result"
    }
   ],
   "source": [
    "anova_table(aov_table)"
   ]
  },
  {
   "cell_type": "markdown",
   "metadata": {},
   "source": [
    "The general rules of thumb given by Cohen and Miles & Shevlin (2001) for analyzing eta-squared, η2:\n",
    "\n",
    "Small effect: 0.01\n",
    "\n",
    "Medium ffect: 0.06\n",
    "\n",
    "Large effect: 0.14\n",
    "\n",
    "From our calculations, the effect size 0.120999 for this ANOVA test is \"Medium\""
   ]
  },
  {
   "cell_type": "markdown",
   "metadata": {},
   "source": [
    "# Pairwise Comparisons\n",
    "# Bonferroni Correction Post-hoc Comparison\n",
    "\n",
    "Pairwise ttest"
   ]
  },
  {
   "cell_type": "code",
   "execution_count": 17,
   "metadata": {},
   "outputs": [
    {
     "name": "stdout",
     "output_type": "stream",
     "text": [
      "Brooklyn Bronx\n",
      "Ttest_indResult(statistic=1.294654643590426, pvalue=0.1968957284673034)\n",
      "Brooklyn Manhattan\n",
      "Ttest_indResult(statistic=-3.996900886057351, pvalue=9.081544432766265e-05)\n",
      "Brooklyn Queens\n",
      "Ttest_indResult(statistic=-4.364543522686404, pvalue=2.1673207370781327e-05)\n",
      "Brooklyn Staten Island\n",
      "Ttest_indResult(statistic=-3.9224800233445176, pvalue=0.0001482760729799147)\n",
      "Bronx Manhattan\n",
      "Ttest_indResult(statistic=-4.8729942841537675, pvalue=2.3547491426048517e-06)\n",
      "Bronx Queens\n",
      "Ttest_indResult(statistic=-5.3334094192506125, pvalue=3.1349345543827033e-07)\n",
      "Bronx Staten Island\n",
      "Ttest_indResult(statistic=-4.511010935490301, pvalue=1.6739080148449784e-05)\n",
      "Manhattan Queens\n",
      "Ttest_indResult(statistic=-0.15442558678604942, pvalue=0.8774737868604339)\n",
      "Manhattan Staten Island\n",
      "Ttest_indResult(statistic=-1.2912670615344957, pvalue=0.19967981322354442)\n",
      "Queens Staten Island\n",
      "Ttest_indResult(statistic=-1.3916614077556428, pvalue=0.16803225042737346)\n"
     ]
    }
   ],
   "source": [
    "# Get all race pairs\n",
    "district_pairs = []\n",
    "\n",
    "for district1 in range(4):\n",
    "    for district2  in range(district1+1,5):\n",
    "        district_pairs.append((districts[district1], districts[district2]))\n",
    "\n",
    "# Conduct t-test on each pair\n",
    "for district1, district2 in district_pairs: \n",
    "    print(district1, district2)\n",
    "    print(stats.ttest_ind(data['total_score'][data['Borough'] == district1], data['total_score'][data['Borough'] == district2])) "
   ]
  },
  {
   "cell_type": "markdown",
   "metadata": {},
   "source": [
    "First the corrected p-value needs to be calculated. This can be done using the formula:\n",
    "\n",
    "p-value/no.# of comparisons = 0.05/10 = 0.005\n",
    "\n",
    "Now the t-tests that are conducted have to have a p-value less than 0.005 in order to be considered significant.\n",
    "\n",
    "=================================================================================================================    \n",
    "Using the Bonferroni correction above,  the difference between the Brooklyn-Manhattan, Brooklyn-Queens, Brooklyn-Staten Island, Bronx-Manhattan, Bronx-Queens and Bronx-Staten Island groups are significantly different."
   ]
  },
  {
   "cell_type": "markdown",
   "metadata": {},
   "source": [
    "# Tukey’s HSD Post-hoc comparison"
   ]
  },
  {
   "cell_type": "code",
   "execution_count": 18,
   "metadata": {},
   "outputs": [
    {
     "data": {
      "text/html": [
       "<table class=\"simpletable\">\n",
       "<caption>Multiple Comparison of Means - Tukey HSD, FWER=0.05</caption>\n",
       "<tr>\n",
       "   <th>group1</th>      <th>group2</th>     <th>meandiff</th>  <th>p-adj</th>   <th>lower</th>    <th>upper</th>  <th>reject</th>\n",
       "</tr>\n",
       "<tr>\n",
       "    <td>Bronx</td>     <td>Brooklyn</td>     <td>27.5324</td> <td>0.7943</td> <td>-42.5764</td>  <td>97.6411</td>  <td>False</td>\n",
       "</tr>\n",
       "<tr>\n",
       "    <td>Bronx</td>     <td>Manhattan</td>   <td>137.4103</td>  <td>0.001</td>  <td>63.6664</td> <td>211.1542</td>  <td>True</td> \n",
       "</tr>\n",
       "<tr>\n",
       "    <td>Bronx</td>      <td>Queens</td>     <td>142.7538</td>  <td>0.001</td>  <td>63.6068</td> <td>221.9007</td>  <td>True</td> \n",
       "</tr>\n",
       "<tr>\n",
       "    <td>Bronx</td>   <td>Staten Island</td> <td>236.2755</td> <td>0.0012</td>  <td>69.0848</td> <td>403.4663</td>  <td>True</td> \n",
       "</tr>\n",
       "<tr>\n",
       "  <td>Brooklyn</td>    <td>Manhattan</td>    <td>109.878</td>  <td>0.001</td>  <td>37.9268</td> <td>181.8291</td>  <td>True</td> \n",
       "</tr>\n",
       "<tr>\n",
       "  <td>Brooklyn</td>     <td>Queens</td>     <td>115.2214</td>  <td>0.001</td>  <td>37.7421</td> <td>192.7007</td>  <td>True</td> \n",
       "</tr>\n",
       "<tr>\n",
       "  <td>Brooklyn</td>  <td>Staten Island</td> <td>208.7431</td> <td>0.0058</td>  <td>42.3353</td> <td>375.1509</td>  <td>True</td> \n",
       "</tr>\n",
       "<tr>\n",
       "  <td>Manhattan</td>    <td>Queens</td>      <td>5.3434</td>    <td>0.9</td>   <td>-75.44</td>   <td>86.1269</td>  <td>False</td>\n",
       "</tr>\n",
       "<tr>\n",
       "  <td>Manhattan</td> <td>Staten Island</td>  <td>98.8652</td> <td>0.4899</td> <td>-69.1065</td> <td>266.8368</td>  <td>False</td>\n",
       "</tr>\n",
       "<tr>\n",
       "   <td>Queens</td>   <td>Staten Island</td>  <td>93.5217</td> <td>0.5522</td> <td>-76.8911</td> <td>263.9346</td>  <td>False</td>\n",
       "</tr>\n",
       "</table>"
      ],
      "text/plain": [
       "<class 'statsmodels.iolib.table.SimpleTable'>"
      ]
     },
     "execution_count": 18,
     "metadata": {},
     "output_type": "execute_result"
    },
    {
     "data": {
      "image/png": "[encoded data removed]",
      "text/plain": [
       "<Figure size 720x432 with 1 Axes>"
      ]
     },
     "metadata": {},
     "output_type": "display_data"
    }
   ],
   "source": [
    "#mc = MultiComparison(data['total_score'], data['Borough'])\n",
    "#mc_results = mc.tukeyhsd()\n",
    "#print(mc_results)\n",
    "\n",
    "# Plot pairwise TukeyHSD comparisons and color by significance level\n",
    "tukey = pairwise_tukeyhsd(endog=data.total_score,     # Data\n",
    "                          groups=data.Borough,   # Groups\n",
    "                          alpha=0.05)          # Significance level\n",
    "\n",
    "tukey.plot_simultaneous()    # Plot group confidence intervals\n",
    "plt.vlines(x=49.57,ymin=-0.5,ymax=4.5, color=\"red\")\n",
    "\n",
    "tukey.summary() "
   ]
  },
  {
   "cell_type": "markdown",
   "metadata": {},
   "source": [
    "The output of the Tukey test shows the average difference, a confidence interval as well as whether you should reject the null hypothesis for each pair of groups(districts) at the given significance level. In our case, the test suggests we reject the null hypothesis for 6 pairs, with each pair including either \"Bronx\" or \"Brooklyn\" districts. This suggests the score from these 2 districts are likely different from the others but not from each other. The 95% confidence interval plot reinforces the results visually: \"Bronx\" or \"Brooklyn\" districts' confidence intervals overlaps each other but not with the districts' confidence interval."
   ]
  },
  {
   "cell_type": "markdown",
   "metadata": {},
   "source": [
    "# Assumptions/Model Diagnostics\n",
    "When working with linear regression and ANOVA models, the assumptions pertain to the residuals and not the variables themselves."
   ]
  },
  {
   "cell_type": "code",
   "execution_count": 19,
   "metadata": {},
   "outputs": [
    {
     "data": {
      "text/plain": [
       "{'jb': 477.9179756406805,\n",
       " 'jbpv': 1.6650611525904948e-104,\n",
       " 'skew': 1.7492787627894884,\n",
       " 'kurtosis': 7.283321804536552,\n",
       " 'omni': 143.7019155438856,\n",
       " 'omnipv': 6.24490045729887e-32,\n",
       " 'condno': 7.202098980187052,\n",
       " 'mineigval': 8.587159565509793}"
      ]
     },
     "execution_count": 19,
     "metadata": {},
     "output_type": "execute_result"
    }
   ],
   "source": [
    "results.diagn"
   ]
  },
  {
   "cell_type": "markdown",
   "metadata": {},
   "source": [
    "These are the same diagnostics from the bottom of the regression table from before. The Durban-Watson tests is to detect the presence of autocorrelation (not provided when calling diagnostics this way), Jarque-Bera (jb; jbpv is p-value) tests the assumption of normality, Omnibus (omni; omnipv is p-value) tests the assumption of homogeneity of variance, and the Condition Number (condno) assess multicollinearity. Condition Number values over 20 are indicative of multicollinearity."
   ]
  },
  {
   "cell_type": "markdown",
   "metadata": {},
   "source": [
    "# Other ways to check assumptions"
   ]
  },
  {
   "cell_type": "markdown",
   "metadata": {},
   "source": [
    "# 1. Homogeneity of Variance\n",
    "\n",
    "We will use the Levene’s test to test for equal variances between groups"
   ]
  },
  {
   "cell_type": "code",
   "execution_count": 20,
   "metadata": {},
   "outputs": [
    {
     "data": {
      "text/plain": [
       "LeveneResult(statistic=4.495896235957851, pvalue=0.0014722723572830481)"
      ]
     },
     "execution_count": 20,
     "metadata": {},
     "output_type": "execute_result"
    }
   ],
   "source": [
    "stats.levene(data['total_score'][data['Borough'] == 'Brooklyn'],\n",
    "             data['total_score'][data['Borough'] == 'Bronx'],\n",
    "             data['total_score'][data['Borough'] == 'Manhattan'],\n",
    "             data['total_score'][data['Borough'] == 'Queens'],\n",
    "             data['total_score'][data['Borough'] == 'Staten Island'])"
   ]
  },
  {
   "cell_type": "markdown",
   "metadata": {},
   "source": [
    "Levene’s test for homogeneity of variance is statistically significant which indicates that the groups don't have equal variances."
   ]
  },
  {
   "cell_type": "markdown",
   "metadata": {},
   "source": [
    "# 2. Normality\n",
    "\n",
    "The assumption of normality is tested on the residuals as a whole which is how the diagnostic information provided by statsmodels tests the residuals."
   ]
  },
  {
   "cell_type": "code",
   "execution_count": 21,
   "metadata": {},
   "outputs": [
    {
     "data": {
      "text/plain": [
       "(0.8600902557373047, 7.665864066791294e-18)"
      ]
     },
     "execution_count": 21,
     "metadata": {},
     "output_type": "execute_result"
    }
   ],
   "source": [
    "stats.shapiro(results.resid)"
   ]
  },
  {
   "cell_type": "markdown",
   "metadata": {},
   "source": [
    "The results from the Shapiro-Wilk test is statistically significant which indicates that the residuals are not normally distributed."
   ]
  },
  {
   "cell_type": "markdown",
   "metadata": {},
   "source": [
    "# The above 2 assumptions were violated, so what next?\n",
    "\n",
    "# To be Continued"
   ]
  },
  {
   "cell_type": "code",
   "execution_count": null,
   "metadata": {},
   "outputs": [],
   "source": []
  }
 ],
 "metadata": {
  "kernelspec": {
   "display_name": "Python 3",
   "language": "python",
   "name": "python3"
  },
  "language_info": {
   "codemirror_mode": {
    "name": "ipython",
    "version": 3
   },
   "file_extension": ".py",
   "mimetype": "text/x-python",
   "name": "python",
   "nbconvert_exporter": "python",
   "pygments_lexer": "ipython3",
   "version": "3.7.4"
  }
 },
 "nbformat": 4,
 "nbformat_minor": 2
}
